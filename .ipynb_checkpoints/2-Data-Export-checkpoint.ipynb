{
 "cells": [
  {
   "cell_type": "markdown",
   "metadata": {},
   "source": [
    "# 0. Setup"
   ]
  },
  {
   "cell_type": "code",
   "execution_count": 43,
   "metadata": {},
   "outputs": [],
   "source": [
    "import os\n",
    "import pandas as pd\n",
    "import pickle\n",
    "from io import StringIO\n",
    "\n",
    "files = ['dumps_detailed_subj.pkl', 'dumps_JRD.pkl', \n",
    "         'dumps_ptsot_results.pkl', 'dumps_RouteTest.pkl', \n",
    "         'dumps_sbsod.pkl']\n",
    "files = [''.join(('./data_raw/', file)) for file in files]\n",
    "\n",
    "# change into the folder that contains the folder data_raw containing the following files\n",
    "data_path = r'.//' # ivo\n",
    "\n",
    "os.chdir(data_path)\n",
    "\n",
    "#os.listdir() # should show inter alia 'data_raw'"
   ]
  },
  {
   "cell_type": "markdown",
   "metadata": {},
   "source": [
    "# 1. Reading in data"
   ]
  },
  {
   "cell_type": "code",
   "execution_count": 44,
   "metadata": {},
   "outputs": [],
   "source": [
    "with open(files[0], 'rb') as f:\n",
    "    detailed_subj_df = pickle.load(f)\n",
    "\n",
    "with open(files[1], 'rb') as f:\n",
    "    JRD_df = pickle.load(f)\n",
    "\n",
    "with open(files[2], 'rb') as f:\n",
    "    ptsot_results_df = pickle.load(f)\n",
    "\n",
    "with open(files[3], 'rb') as f:\n",
    "    RouteTest_df = pickle.load(f)\n",
    "\n",
    "with open(files[4], 'rb') as f:\n",
    "    sbsod_df = pickle.load(f)"
   ]
  },
  {
   "cell_type": "markdown",
   "metadata": {},
   "source": [
    "# 2. Exporting to SQL"
   ]
  },
  {
   "cell_type": "markdown",
   "metadata": {},
   "source": [
    "The data frames are saved in objects:\n",
    "- `detailed_subj_df`\n",
    "- `JRD_df`\n",
    "- `ptsot_results_df`\n",
    "- `RouteTest_df`\n",
    "- `sbsod_df`"
   ]
  },
  {
   "cell_type": "code",
   "execution_count": 45,
   "metadata": {},
   "outputs": [
    {
     "name": "stdout",
     "output_type": "stream",
     "text": [
      "`detailed_subj_df`:\t5887 rows, 7 columns.\n",
      "`JRD_df`:\t\t1056 rows, 9 columns.\n",
      "`ptsot_results_df`:\t 377 rows, 5 columns.\n",
      "`RouteTest_df`:\t\t 588 rows, 7 columns.\n",
      "`sbsod_df`:\t\t 390 rows, 4 columns.\n"
     ]
    }
   ],
   "source": [
    "print(f'`detailed_subj_df`:\\t{detailed_subj_df.shape[0]} rows, {detailed_subj_df.shape[1]} columns.')\n",
    "print(f'`JRD_df`:\\t\\t{JRD_df.shape[0]} rows, {JRD_df.shape[1]} columns.')\n",
    "print(f'`ptsot_results_df`:\\t {ptsot_results_df.shape[0]} rows, {ptsot_results_df.shape[1]} columns.')\n",
    "print(f'`RouteTest_df`:\\t\\t {RouteTest_df.shape[0]} rows, {RouteTest_df.shape[1]} columns.')\n",
    "print(f'`sbsod_df`:\\t\\t {sbsod_df.shape[0]} rows, {sbsod_df.shape[1]} columns.')"
   ]
  }
 ],
 "metadata": {
  "kernelspec": {
   "display_name": "Python 3",
   "language": "python",
   "name": "python3"
  },
  "language_info": {
   "codemirror_mode": {
    "name": "ipython",
    "version": 3
   },
   "file_extension": ".py",
   "mimetype": "text/x-python",
   "name": "python",
   "nbconvert_exporter": "python",
   "pygments_lexer": "ipython3",
   "version": "3.7.6"
  }
 },
 "nbformat": 4,
 "nbformat_minor": 4
}
