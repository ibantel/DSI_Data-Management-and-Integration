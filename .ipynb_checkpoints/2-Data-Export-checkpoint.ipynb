{
 "cells": [
  {
   "cell_type": "markdown",
   "metadata": {},
   "source": [
    "# 0. Setup"
   ]
  },
  {
   "cell_type": "code",
   "execution_count": 35,
   "metadata": {},
   "outputs": [],
   "source": [
    "import os\n",
    "import pandas as pd\n",
    "import pickle\n",
    "from io import StringIO\n",
    "\n",
    "# change into the folder that contains the folder data_raw containing the following files\n",
    "files = ['dumps_detailed_subj.pkl', 'dumps_JRD.pkl', \n",
    "         'dumps_ptsot_results.pkl', 'dumps_RouteTest.pkl', \n",
    "         'dumps_sbsod.pkl']\n",
    "files = [''.join(('./data_raw/', file)) for file in files]\n",
    "\n",
    "\n",
    "#data_path = r'C:\\Users\\sjants\\' # simon\n",
    "data_path = r'.//' # ivo\n",
    "\n",
    "os.chdir(data_path)\n",
    "\n",
    "#os.listdir() # should show inter alia 'data_raw'"
   ]
  },
  {
   "cell_type": "markdown",
   "metadata": {},
   "source": [
    "# 1. Reading in data"
   ]
  },
  {
   "cell_type": "code",
   "execution_count": 36,
   "metadata": {},
   "outputs": [],
   "source": [
    "with open(files[0][:-4], 'rb') as f:\n",
    "    detailed_subj_df = pickle.load(f)\n",
    "\n",
    "with open(files[1][:-4], 'rb') as f:\n",
    "    JRD_df = pickle.load(f)\n",
    "\n",
    "with open(files[2][:-4], 'rb') as f:\n",
    "    ptsot_results_df = pickle.load(f)\n",
    "\n",
    "with open(files[3][:-4], 'rb') as f:\n",
    "    RouteTest_df = pickle.load(f)\n",
    "\n",
    "with open(files[4][:-4], 'rb') as f:\n",
    "    sbsod_df = pickle.load(f)\n",
    "\n"
   ]
  },
  {
   "cell_type": "markdown",
   "metadata": {},
   "source": [
    "# 2. Exporting to SQL"
   ]
  },
  {
   "cell_type": "markdown",
   "metadata": {},
   "source": [
    "The data frames are saved in objects:\n",
    "- `detailed_subj_df`\n",
    "- `JRD_df`\n",
    "- `ptsot_results_df`\n",
    "- `RouteTest_df`\n",
    "- `sbsod_df`"
   ]
  },
  {
   "cell_type": "code",
   "execution_count": 39,
   "metadata": {},
   "outputs": [],
   "source": [
    "#detailed_subj_df\n",
    "#JRD_df\n",
    "#ptsot_results_df\n",
    "#RouteTest_df\n",
    "#sbsod_df"
   ]
  },
  {
   "cell_type": "code",
   "execution_count": null,
   "metadata": {},
   "outputs": [],
   "source": []
  },
  {
   "cell_type": "code",
   "execution_count": null,
   "metadata": {},
   "outputs": [],
   "source": []
  }
 ],
 "metadata": {
  "kernelspec": {
   "display_name": "Python 3",
   "language": "python",
   "name": "python3"
  },
  "language_info": {
   "codemirror_mode": {
    "name": "ipython",
    "version": 3
   },
   "file_extension": ".py",
   "mimetype": "text/x-python",
   "name": "python",
   "nbconvert_exporter": "python",
   "pygments_lexer": "ipython3",
   "version": "3.7.6"
  }
 },
 "nbformat": 4,
 "nbformat_minor": 4
}
