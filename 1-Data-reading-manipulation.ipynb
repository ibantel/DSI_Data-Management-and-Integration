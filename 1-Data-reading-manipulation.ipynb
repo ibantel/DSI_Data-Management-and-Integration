{
 "cells": [
  {
   "cell_type": "markdown",
   "metadata": {},
   "source": [
    "# 0. Setup"
   ]
  },
  {
   "cell_type": "code",
   "execution_count": 37,
   "metadata": {},
   "outputs": [],
   "source": [
    "import os\n",
    "import pandas as pd\n",
    "import pickle\n",
    "from io import StringIO\n",
    "\n",
    "# change into the folder that contains the unzipped data (in the folder \"DataManagementIntergration_Data\")\n",
    "#data_path = r'C:\\Users\\sjants\\Desktop\\Data' # simon\n",
    "data_path = r'../DataManagementIntergration_Data/OriginalData_wRouteTest' # ivo"
   ]
  },
  {
   "cell_type": "markdown",
   "metadata": {},
   "source": [
    "## 1. Get overview of files"
   ]
  },
  {
   "cell_type": "code",
   "execution_count": 39,
   "metadata": {},
   "outputs": [],
   "source": [
    "dict_folder_file = {} # initialize empty dictionary\n",
    "\n",
    "for subfolder in os.listdir(data_path):\n",
    "    if subfolder not in dict_folder_file.keys(): # check if the dictionary already contains entries for the subfolder\n",
    "        dict_folder_file[subfolder] = [] # if not, add an empty list to as value for that entry\n",
    "    for entry in os.listdir('/'.join((data_path, subfolder))):\n",
    "        if entry == 'UnityDataSave': # if the subfolder is UnityDataSave\n",
    "            contents = os.listdir('/'.join((data_path, subfolder, entry))) # get the contents of the folder\n",
    "            contents = ['/'.join((entry, i)) for i in contents] # construct the path to the file\n",
    "            for entr in contents:\n",
    "                dict_folder_file[subfolder].append(entr) # append 'UnityDataSave/filename' to the dictionary\n",
    "        else:\n",
    "            dict_folder_file[subfolder].append(entry) # append the list for that entry with the respective files\n",
    "\n",
    "#dict_folder_file # keys: subfolders, values: list of the contained files, e.g. dict = {folder1: [file1, file2], ...}"
   ]
  },
  {
   "cell_type": "markdown",
   "metadata": {},
   "source": [
    "# 2. Read in files"
   ]
  },
  {
   "cell_type": "markdown",
   "metadata": {},
   "source": [
    "## Inspect files"
   ]
  },
  {
   "cell_type": "code",
   "execution_count": 8,
   "metadata": {},
   "outputs": [],
   "source": [
    "if False:\n",
    "    for key in dict_folder_file.keys(): # iterate through each subfolder\n",
    "        print(key) # print key (folder)\n",
    "        print(dict_folder_file[key]) # print dict entries (files)\n",
    "        print(dict_folder_file[key][0]) # print first file        "
   ]
  },
  {
   "cell_type": "markdown",
   "metadata": {},
   "source": [
    "## 2.2 Create `df_detailed_subj`"
   ]
  },
  {
   "cell_type": "code",
   "execution_count": 23,
   "metadata": {},
   "outputs": [],
   "source": [
    "list_dfs = []\n",
    "\n",
    "for key in dict_folder_file.keys(): #iterate through each subfolder\n",
    "    df = pd.read_csv('/'.join((data_path,key,dict_folder_file[key][0]))) #read in one file as data frame\n",
    "    ID = []\n",
    "    for i in range(1, len(df) + 1):\n",
    "        ID.append(i)\n",
    "    df.insert(1, 'TaskID', ID)\n",
    "    list_dfs.append(df) #append data frames\n",
    "\n",
    "df_detailed_subj = pd.concat(list_dfs, axis = 0, ignore_index = True) # concatenate dfs into one\n",
    "\n",
    "with open('./data_raw/dumps_detailed_subj.pkl', 'wb') as f:\n",
    "    pickle.dump(df_detailed_subj, f)\n",
    "    \n",
    "#df_detailed_subj # inspect"
   ]
  },
  {
   "cell_type": "markdown",
   "metadata": {},
   "source": [
    "## 2.3 Create `df_ptsot_results`"
   ]
  },
  {
   "cell_type": "code",
   "execution_count": 24,
   "metadata": {},
   "outputs": [],
   "source": [
    "list_dfs = []\n",
    "\n",
    "for key in dict_folder_file.keys(): \n",
    "    df = pd.read_csv('/'.join((data_path,key,dict_folder_file[key][1])),\n",
    "                     names = ['QuestionNumber','CorrectResponseAngle','ActualResponseAngle','AbsoluteAngularError'],\n",
    "                     header = None)\n",
    "    ID = []\n",
    "    for i in range(0, len(df)):\n",
    "        ID.append(int(key[4:]))\n",
    "    df.insert(0, 'UserID', ID)\n",
    "    list_dfs.append(df)\n",
    "    \n",
    "df_ptsot_results = pd.concat(list_dfs, axis = 0, ignore_index = True, sort = False) # concatenate dfs into one\n",
    "\n",
    "with open('./data_raw/dumps_ptsot_results.pkl', 'wb') as f:\n",
    "    pickle.dump(df_ptsot_results, f)\n",
    "    \n",
    "#df_ptsot_results # inspect"
   ]
  },
  {
   "cell_type": "markdown",
   "metadata": {},
   "source": [
    "## 2.4 Create `df_JRD`"
   ]
  },
  {
   "cell_type": "code",
   "execution_count": 25,
   "metadata": {},
   "outputs": [],
   "source": [
    "list_dfs = []\n",
    "for key in dict_folder_file.keys(): \n",
    "        if len(dict_folder_file[key]) > 3:\n",
    "            df = pd.read_csv('/'.join((data_path, key, dict_folder_file[key][3])), skipinitialspace = True)\n",
    "            df.columns = ['UserID' if x == 'PartID ' else x for x in df.columns]\n",
    "            df.drop(df.index[0], inplace = True)\n",
    "            list_dfs.append(df)\n",
    "df_JRD = pd.concat(list_dfs, axis = 0, ignore_index = True,sort = False)\n",
    "\n",
    "with open('./data_raw/dumps_JRD.pkl', 'wb') as f:\n",
    "    pickle.dump(df_JRD, f)\n",
    "    \n",
    "#df_JRD # inspect"
   ]
  },
  {
   "cell_type": "markdown",
   "metadata": {},
   "source": [
    "## 2.5 Create `df_sbsod`"
   ]
  },
  {
   "cell_type": "code",
   "execution_count": 28,
   "metadata": {},
   "outputs": [],
   "source": [
    "list_dfs = []\n",
    "for key in dict_folder_file.keys(): \n",
    "        if len(dict_folder_file[key]) > 3:\n",
    "            with open('/'.join((data_path, key, dict_folder_file[key][2]))) as file:\n",
    "                data = file.read().replace(\"merken,\", \"merken;\").replace(\"nachdenke,\", \"nachdenke;\").replace(\"(N,S,O,W)\", \"(N;S;O;W)\").replace(\"(N, S, E, W)\", \"(N; S; E; W)\").replace(\"Probleme,\", \"Probleme;\").replace(\"wichtig,\", \"wichtig;\").replace(\"erinnern,\", \"erinnern;\")\n",
    "                if len(data) > 0:\n",
    "                    TESTDATA = StringIO(data)\n",
    "                    df = pd.read_csv(TESTDATA, sep = \",\")\n",
    "                    ID = []\n",
    "                    for i in range(0, len(df)):\n",
    "                        ID.append(int(key[4:]))\n",
    "                    df.insert(0, 'UserID', ID)\n",
    "                    list_dfs.append(df)\n",
    "\n",
    "df_sbsod = pd.concat(list_dfs, axis = 0, ignore_index = True, sort = False)\n",
    "\n",
    "with open('./data_raw/dumps_sbsod.pkl', 'wb') as f:\n",
    "    pickle.dump(df_sbsod, f)\n",
    "    \n",
    "#df_sbsod # inspect"
   ]
  },
  {
   "cell_type": "markdown",
   "metadata": {},
   "source": [
    "## 2.6 Create `df_RouteTest`"
   ]
  },
  {
   "cell_type": "code",
   "execution_count": 36,
   "metadata": {
    "collapsed": true
   },
   "outputs": [
    {
     "ename": "TypeError",
     "evalue": "'type' object is not iterable",
     "output_type": "error",
     "traceback": [
      "\u001b[1;31m---------------------------------------------------------------------------\u001b[0m",
      "\u001b[1;31mTypeError\u001b[0m                                 Traceback (most recent call last)",
      "\u001b[1;32m<ipython-input-36-b24b9602ab2b>\u001b[0m in \u001b[0;36m<module>\u001b[1;34m\u001b[0m\n\u001b[0;32m      6\u001b[0m             \u001b[0mlist_dfs\u001b[0m\u001b[1;33m.\u001b[0m\u001b[0mappend\u001b[0m\u001b[1;33m(\u001b[0m\u001b[0mdf\u001b[0m\u001b[1;33m)\u001b[0m\u001b[1;33m\u001b[0m\u001b[1;33m\u001b[0m\u001b[0m\n\u001b[0;32m      7\u001b[0m \u001b[1;33m\u001b[0m\u001b[0m\n\u001b[1;32m----> 8\u001b[1;33m \u001b[0mdf_RouteTest\u001b[0m \u001b[1;33m=\u001b[0m \u001b[0mpd\u001b[0m\u001b[1;33m.\u001b[0m\u001b[0mconcat\u001b[0m\u001b[1;33m(\u001b[0m\u001b[0mlist\u001b[0m\u001b[1;33m,\u001b[0m \u001b[0maxis\u001b[0m \u001b[1;33m=\u001b[0m \u001b[1;36m0\u001b[0m\u001b[1;33m,\u001b[0m \u001b[0mignore_index\u001b[0m \u001b[1;33m=\u001b[0m \u001b[1;32mTrue\u001b[0m\u001b[1;33m,\u001b[0m \u001b[0msort\u001b[0m \u001b[1;33m=\u001b[0m \u001b[1;32mFalse\u001b[0m\u001b[1;33m)\u001b[0m\u001b[1;33m\u001b[0m\u001b[1;33m\u001b[0m\u001b[0m\n\u001b[0m\u001b[0;32m      9\u001b[0m \u001b[1;33m\u001b[0m\u001b[0m\n\u001b[0;32m     10\u001b[0m \u001b[1;32mwith\u001b[0m \u001b[0mopen\u001b[0m\u001b[1;33m(\u001b[0m\u001b[1;34m'./dumps_RouteTest'\u001b[0m\u001b[1;33m,\u001b[0m \u001b[1;34m'wb'\u001b[0m\u001b[1;33m)\u001b[0m \u001b[1;32mas\u001b[0m \u001b[0mf\u001b[0m\u001b[1;33m:\u001b[0m\u001b[1;33m\u001b[0m\u001b[1;33m\u001b[0m\u001b[0m\n",
      "\u001b[1;32mC:\\ProgramData\\Anaconda3\\lib\\site-packages\\pandas\\core\\reshape\\concat.py\u001b[0m in \u001b[0;36mconcat\u001b[1;34m(objs, axis, join, ignore_index, keys, levels, names, verify_integrity, sort, copy)\u001b[0m\n\u001b[0;32m    279\u001b[0m         \u001b[0mverify_integrity\u001b[0m\u001b[1;33m=\u001b[0m\u001b[0mverify_integrity\u001b[0m\u001b[1;33m,\u001b[0m\u001b[1;33m\u001b[0m\u001b[1;33m\u001b[0m\u001b[0m\n\u001b[0;32m    280\u001b[0m         \u001b[0mcopy\u001b[0m\u001b[1;33m=\u001b[0m\u001b[0mcopy\u001b[0m\u001b[1;33m,\u001b[0m\u001b[1;33m\u001b[0m\u001b[1;33m\u001b[0m\u001b[0m\n\u001b[1;32m--> 281\u001b[1;33m         \u001b[0msort\u001b[0m\u001b[1;33m=\u001b[0m\u001b[0msort\u001b[0m\u001b[1;33m,\u001b[0m\u001b[1;33m\u001b[0m\u001b[1;33m\u001b[0m\u001b[0m\n\u001b[0m\u001b[0;32m    282\u001b[0m     )\n\u001b[0;32m    283\u001b[0m \u001b[1;33m\u001b[0m\u001b[0m\n",
      "\u001b[1;32mC:\\ProgramData\\Anaconda3\\lib\\site-packages\\pandas\\core\\reshape\\concat.py\u001b[0m in \u001b[0;36m__init__\u001b[1;34m(self, objs, axis, join, keys, levels, names, ignore_index, verify_integrity, copy, sort)\u001b[0m\n\u001b[0;32m    324\u001b[0m             \u001b[0mobjs\u001b[0m \u001b[1;33m=\u001b[0m \u001b[1;33m[\u001b[0m\u001b[0mobjs\u001b[0m\u001b[1;33m[\u001b[0m\u001b[0mk\u001b[0m\u001b[1;33m]\u001b[0m \u001b[1;32mfor\u001b[0m \u001b[0mk\u001b[0m \u001b[1;32min\u001b[0m \u001b[0mkeys\u001b[0m\u001b[1;33m]\u001b[0m\u001b[1;33m\u001b[0m\u001b[1;33m\u001b[0m\u001b[0m\n\u001b[0;32m    325\u001b[0m         \u001b[1;32melse\u001b[0m\u001b[1;33m:\u001b[0m\u001b[1;33m\u001b[0m\u001b[1;33m\u001b[0m\u001b[0m\n\u001b[1;32m--> 326\u001b[1;33m             \u001b[0mobjs\u001b[0m \u001b[1;33m=\u001b[0m \u001b[0mlist\u001b[0m\u001b[1;33m(\u001b[0m\u001b[0mobjs\u001b[0m\u001b[1;33m)\u001b[0m\u001b[1;33m\u001b[0m\u001b[1;33m\u001b[0m\u001b[0m\n\u001b[0m\u001b[0;32m    327\u001b[0m \u001b[1;33m\u001b[0m\u001b[0m\n\u001b[0;32m    328\u001b[0m         \u001b[1;32mif\u001b[0m \u001b[0mlen\u001b[0m\u001b[1;33m(\u001b[0m\u001b[0mobjs\u001b[0m\u001b[1;33m)\u001b[0m \u001b[1;33m==\u001b[0m \u001b[1;36m0\u001b[0m\u001b[1;33m:\u001b[0m\u001b[1;33m\u001b[0m\u001b[1;33m\u001b[0m\u001b[0m\n",
      "\u001b[1;31mTypeError\u001b[0m: 'type' object is not iterable"
     ]
    }
   ],
   "source": [
    "list_dfs = []\n",
    "for key in dict_folder_file.keys(): \n",
    "        if len(dict_folder_file[key]) == 6:\n",
    "            print(key)\n",
    "            df = pd.read_csv('/'.join((data_path, key, dict_folder_file[key][4])), skipinitialspace = True)\n",
    "            list_dfs.append(df)\n",
    "\n",
    "df_RouteTest = pd.concat(list, axis = 0, ignore_index = True, sort = False)\n",
    "\n",
    "with open('./data_raw/dumps_RouteTest.pkl', 'wb') as f:\n",
    "    pickle.dump(df_RouteTest, f)\n",
    "    \n",
    "#df_RouteTest # inspect"
   ]
  },
  {
   "cell_type": "code",
   "execution_count": null,
   "metadata": {},
   "outputs": [],
   "source": []
  }
 ],
 "metadata": {
  "kernelspec": {
   "display_name": "Python 3",
   "language": "python",
   "name": "python3"
  },
  "language_info": {
   "codemirror_mode": {
    "name": "ipython",
    "version": 3
   },
   "file_extension": ".py",
   "mimetype": "text/x-python",
   "name": "python",
   "nbconvert_exporter": "python",
   "pygments_lexer": "ipython3",
   "version": "3.7.6"
  }
 },
 "nbformat": 4,
 "nbformat_minor": 4
}
