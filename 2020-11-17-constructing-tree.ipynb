{
 "cells": [
  {
   "cell_type": "code",
   "execution_count": 1,
   "metadata": {},
   "outputs": [],
   "source": [
    "import os\n",
    "import pandas as pd\n",
    "from io import StringIO\n",
    "\n",
    " # change into the folder that contains the unzipped data (in the folder \"DataManagementIntergration_Data\")\n",
    "\n",
    "data_path = r'C:\\Users\\sjants\\Desktop\\Data'"
   ]
  },
  {
   "cell_type": "markdown",
   "metadata": {},
   "source": [
    "## 1. Get overview of files"
   ]
  },
  {
   "cell_type": "code",
   "execution_count": 2,
   "metadata": {},
   "outputs": [],
   "source": [
    "dict_folder_file = {} # initialize dictionary\n",
    "# this will hold subfolders as keys and a list of the contained files as value, e.g. dict = {folder1: [file1, file2], ...}\n",
    "\n",
    "for subfolder in os.listdir(data_path):\n",
    "    if subfolder not in dict_folder_file.keys(): # check if the dictionary already contains entries for the subfolder\n",
    "        dict_folder_file[subfolder] = [] # if not, add an empty list to as value for that entry\n",
    "    for entry in os.listdir('/'.join((data_path, subfolder))):\n",
    "        if entry == 'UnityDataSave': # if the subfolder is UnityDataSave\n",
    "            contents = os.listdir('/'.join((data_path, subfolder, entry))) # get the contents of the folder\n",
    "            contents = ['/'.join((entry, i)) for i in contents] # construct the path to the file\n",
    "            for entr in contents:\n",
    "                dict_folder_file[subfolder].append(entr) # append 'UnityDataSave/filename' to the dictionary\n",
    "        else:\n",
    "            dict_folder_file[subfolder].append(entry) # append the list for that entry with the respective files"
   ]
  },
  {
   "cell_type": "markdown",
   "metadata": {},
   "source": [
    "# 2. Read in files"
   ]
  },
  {
   "cell_type": "code",
   "execution_count": 3,
   "metadata": {},
   "outputs": [
    {
     "name": "stdout",
     "output_type": "stream",
     "text": [
      "detailed_subj_15_corsi.csv\n",
      "detailed_subj_16_corsi.csv\n",
      "detailed_subj_17_corsi.csv\n",
      "detailed_subj_18_corsi.csv\n",
      "detailed_subj_19_corsi.csv\n",
      "detailed_subj_20_corsi.csv\n",
      "detailed_subj_21_corsi.csv\n",
      "detailed_subj_22_corsi.csv\n",
      "detailed_subj_23_corsi.csv\n",
      "detailed_subj_24_corsi.csv\n",
      "detailed_subj_25_corsi.csv\n",
      "detailed_subj_26_corsi.csv\n",
      "detailed_subj_27_corsi.csv\n",
      "detailed_subj_28_corsi.csv\n",
      "detailed_subj_29_corsi.csv\n",
      "detailed_subj_30_corsi.csv\n",
      "detailed_subj_31_corsi.csv\n",
      "detailed_subj_32_corsi.csv\n",
      "detailed_subj_34_corsi.csv\n",
      "detailed_subj_35_corsi.csv\n",
      "detailed_subj_36_corsi.csv\n",
      "detailed_subj_37_corsi.csv\n",
      "detailed_subj_38_corsi.csv\n",
      "detailed_subj_39_corsi.csv\n",
      "detailed_subj_40_corsi.csv\n",
      "detailed_subj_41_corsi.csv\n",
      "detailed_subj_42_corsi.csv\n",
      "detailed_subj_43_corsi.csv\n",
      "detailed_subj_44_corsi.csv\n"
     ]
    }
   ],
   "source": [
    "for key in dict_folder_file.keys(): # iterate through each subfolder\n",
    "    print(dict_folder_file[key][0]) # print first file"
   ]
  },
  {
   "cell_type": "code",
   "execution_count": 4,
   "metadata": {},
   "outputs": [],
   "source": [
    "list = []\n",
    "for key in dict_folder_file.keys(): #iterate through each subfolder\n",
    "    df=pd.read_csv('/'.join((data_path,key,dict_folder_file[key][0]))) #read in one file as data frame\n",
    "    list.append(df) #append dataframes\n",
    "detailed_subj = pd.concat(list, axis=0, ignore_index=True) #concatenate them into one data frame called detailed_subj\n",
    "\n",
    "\n"
   ]
  },
  {
   "cell_type": "code",
   "execution_count": 5,
   "metadata": {},
   "outputs": [
    {
     "name": "stdout",
     "output_type": "stream",
     "text": [
      "      UserId    Correct    userAnswer    expectAnswer    curClickNumber   \\\n",
      "0          15          1             5               5                 1   \n",
      "1          15          1             6               6                 2   \n",
      "2          15          1             4               4                 3   \n",
      "3          15          1             1               1                 4   \n",
      "4          15          1             8               8                 5   \n",
      "...       ...        ...           ...             ...               ...   \n",
      "5882       44          1             0               0                 1   \n",
      "5883       44          1             5               5                 2   \n",
      "5884       44          1             2               2                 3   \n",
      "5885       44          1             7               7                 4   \n",
      "5886       44          1             6               6                 5   \n",
      "\n",
      "       expectMaxClickNumber  \n",
      "0                         7  \n",
      "1                         7  \n",
      "2                         7  \n",
      "3                         7  \n",
      "4                         7  \n",
      "...                     ...  \n",
      "5882                      5  \n",
      "5883                      5  \n",
      "5884                      5  \n",
      "5885                      5  \n",
      "5886                      5  \n",
      "\n",
      "[5887 rows x 6 columns]\n"
     ]
    }
   ],
   "source": [
    "print(detailed_subj) #print data of all subjects from the detailed_subj files"
   ]
  },
  {
   "cell_type": "code",
   "execution_count": 6,
   "metadata": {
    "scrolled": false
   },
   "outputs": [
    {
     "name": "stdout",
     "output_type": "stream",
     "text": [
      "                          0      1         2        3\n",
      "0                         1  123.0  136.6703  13.6703\n",
      "1                         2  237.0  215.3757  21.6243\n",
      "2                         3   83.0   89.3614   6.3614\n",
      "3                         4  156.0  163.9047   7.9047\n",
      "4                         5  319.0  328.1509   9.1509\n",
      "..                      ...    ...       ...      ...\n",
      "372                       9  280.0  300.3780  20.3780\n",
      "373                      10   48.0   69.8174  21.8174\n",
      "374                      11   26.0   20.7285   5.2715\n",
      "375                      12  150.0  133.5872  16.4128\n",
      "376  Average Error: 24.8548    NaN       NaN      NaN\n",
      "\n",
      "[377 rows x 4 columns]\n"
     ]
    }
   ],
   "source": [
    "list = []\n",
    "for key in dict_folder_file.keys(): \n",
    "    df=pd.read_csv('/'.join((data_path,key,dict_folder_file[key][1])),header=None)\n",
    "    list.append(df)\n",
    "ptsot_results = pd.concat(list, axis=0, ignore_index=True,sort=False)\n",
    "print(ptsot_results)"
   ]
  },
  {
   "cell_type": "code",
   "execution_count": 7,
   "metadata": {},
   "outputs": [
    {
     "name": "stdout",
     "output_type": "stream",
     "text": [
      "      PartID             DateTime   City_mapLMs  StandingAt  LookingAt   \\\n",
      "0     PartID             DateTime   City_mapLMs    LandMark       Seen    \n",
      "1          15  14.10.2020 10:41:25           1_7         LM5        LM6   \n",
      "2          15  14.10.2020 10:41:45           1_7         LM2        LM6   \n",
      "3          15  14.10.2020 10:42:14           1_7         LM4        LM6   \n",
      "4          15  14.10.2020 10:42:34           1_7         LM1        LM3   \n",
      "...       ...                  ...           ...         ...        ...   \n",
      "1078       44  13.11.2020 17:19:42           3_7         LM3        LM5   \n",
      "1079       44  13.11.2020 17:19:47           3_7         LM6        LM4   \n",
      "1080       44  13.11.2020 17:19:48           3_7         LM5        LM4   \n",
      "1081       44  13.11.2020 17:19:56           3_7         LM3        LM2   \n",
      "1082       44  13.11.2020 17:19:58           3_7         LM6        LM5   \n",
      "\n",
      "     LandmarkToMove  CorrectAngle   ResponseInDegrees   ResponsErrorAbs  \n",
      "0          Response   CorrectAngle                 NaN              NaN  \n",
      "1                LM7      38.28455          153.187000        114.90240  \n",
      "2                LM5      7.510761           43.030730         35.51997  \n",
      "3                LM1       256.835          213.094600         43.74046  \n",
      "4                LM2      28.29682          337.270100         51.02676  \n",
      "...              ...           ...                 ...              ...  \n",
      "1078             LM7       14.5494            3.732508         10.81691  \n",
      "1079             LM3       335.241           73.154510         97.91312  \n",
      "1080             LM6       177.012           79.987100         97.02465  \n",
      "1081             LM1       62.8291          263.248100        159.58100  \n",
      "1082             LM1       325.882          264.986100         60.89554  \n",
      "\n",
      "[1083 rows x 9 columns]\n"
     ]
    }
   ],
   "source": [
    "list = []\n",
    "for key in dict_folder_file.keys(): \n",
    "        if len(dict_folder_file[key]) > 3:\n",
    "            df=pd.read_csv('/'.join((data_path,key,dict_folder_file[key][3])),skipinitialspace=True)\n",
    "            list.append(df)\n",
    "JRD = pd.concat(list, axis=0, ignore_index=True,sort=False)\n",
    "print(JRD)"
   ]
  },
  {
   "cell_type": "code",
   "execution_count": 8,
   "metadata": {},
   "outputs": [
    {
     "name": "stdout",
     "output_type": "stream",
     "text": [
      "     questionID                                    questionContent   \\\n",
      "0              1               I am very good at giving directions.   \n",
      "1              2      I have a poor memory for where I left things.   \n",
      "2              3               I am very good at judging distances.   \n",
      "3              4              My 'sense of direction' is very good.   \n",
      "4              5  I tend to think of my environment in terms of ...   \n",
      "..           ...                                                ...   \n",
      "385           11            Ich gebe nicht gerne Wegbeschreibungen.   \n",
      "386           12  FÃ¼r mich ist es nicht wichtig; zu wissen wo i...   \n",
      "387           13  Normalerweise Ã¼berlasse ich anderen die Wegep...   \n",
      "388           14  In der Regel kann ich mich an einen neuen Weg ...   \n",
      "389           15  Ich habe keine sehr gute â€žinnere Karteâ€œ me...   \n",
      "\n",
      "      ParticipantAnswer  \n",
      "0                     5  \n",
      "1                     4  \n",
      "2                     4  \n",
      "3                     5  \n",
      "4                     5  \n",
      "..                  ...  \n",
      "385                   6  \n",
      "386                   3  \n",
      "387                   7  \n",
      "388                   5  \n",
      "389                   2  \n",
      "\n",
      "[390 rows x 3 columns]\n"
     ]
    }
   ],
   "source": [
    "list=[]\n",
    "for key in dict_folder_file.keys(): \n",
    "        if len(dict_folder_file[key]) > 3:\n",
    "            with open('/'.join((data_path,key,dict_folder_file[key][2]))) as file:\n",
    "                data = file.read().replace(\"merken,\",\"merken;\" ).replace(\"nachdenke,\",\"nachdenke;\" ).replace(\"(N,S,O,W)\",\"(N;S;O;W)\" ).replace(\"(N, S, E, W)\",\"(N; S; E; W)\" ).replace(\"Probleme,\",\"Probleme;\" ).replace(\"wichtig,\",\"wichtig;\" ).replace(\"erinnern,\",\"erinnern;\" )\n",
    "                if len(data)>0:\n",
    "                    TESTDATA = StringIO(data)\n",
    "                    df = pd.read_csv(TESTDATA, sep=\",\")\n",
    "                    list.append(df)\n",
    "sbsod = pd.concat(list, axis=0, ignore_index=True,sort=False)\n",
    "print(sbsod)"
   ]
  }
 ],
 "metadata": {
  "kernelspec": {
   "display_name": "Python 3",
   "language": "python",
   "name": "python3"
  },
  "language_info": {
   "codemirror_mode": {
    "name": "ipython",
    "version": 3
   },
   "file_extension": ".py",
   "mimetype": "text/x-python",
   "name": "python",
   "nbconvert_exporter": "python",
   "pygments_lexer": "ipython3",
   "version": "3.7.4"
  }
 },
 "nbformat": 4,
 "nbformat_minor": 4
}
