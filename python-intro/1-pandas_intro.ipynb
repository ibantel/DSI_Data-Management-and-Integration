{
 "cells": [
  {
   "cell_type": "markdown",
   "metadata": {},
   "source": [
    "# Workshop Text Classification with Python\n",
    "## Coding Session 0 - Data Management with Pandas\n",
    "\n",
    "Anke & Lara & Ivo\n",
    "\n",
    "Last edit: 30.09.2020"
   ]
  },
  {
   "cell_type": "code",
   "execution_count": 34,
   "metadata": {},
   "outputs": [],
   "source": [
    "import pandas as pd \n",
    "\n",
    "#This is THE python library for everything with data frames.\n",
    "#It can do almost everything and is very easy to handle :)"
   ]
  },
  {
   "cell_type": "markdown",
   "metadata": {},
   "source": [
    "## Data Set A - Songext by Genre\n",
    "\n",
    "Let's load the data frame with the songtexts as an example. The file is in the folder **Data**. If the file is in the same folder as this Notebook just type in the file name."
   ]
  },
  {
   "cell_type": "markdown",
   "metadata": {},
   "source": [
    "#### Read data from csv file"
   ]
  },
  {
   "cell_type": "code",
   "execution_count": 35,
   "metadata": {},
   "outputs": [],
   "source": [
    "df = pd.read_csv(\"./Data/Songtexts_by_Genre_DataFrame.csv\", sep=\",\") \n",
    "#There are several more parameter options in addition to \"sep\".\n"
   ]
  },
  {
   "cell_type": "code",
   "execution_count": 36,
   "metadata": {},
   "outputs": [
    {
     "data": {
      "text/html": [
       "<div>\n",
       "<style scoped>\n",
       "    .dataframe tbody tr th:only-of-type {\n",
       "        vertical-align: middle;\n",
       "    }\n",
       "\n",
       "    .dataframe tbody tr th {\n",
       "        vertical-align: top;\n",
       "    }\n",
       "\n",
       "    .dataframe thead th {\n",
       "        text-align: right;\n",
       "    }\n",
       "</style>\n",
       "<table border=\"1\" class=\"dataframe\">\n",
       "  <thead>\n",
       "    <tr style=\"text-align: right;\">\n",
       "      <th></th>\n",
       "      <th>Title</th>\n",
       "      <th>Artist</th>\n",
       "      <th>Popularity</th>\n",
       "      <th>Lyric</th>\n",
       "      <th>Idiom</th>\n",
       "      <th>Genre</th>\n",
       "    </tr>\n",
       "  </thead>\n",
       "  <tbody>\n",
       "    <tr>\n",
       "      <th>0</th>\n",
       "      <td>\"Oh Yeah\" By Foxy Brown</td>\n",
       "      <td>Foxy Brown</td>\n",
       "      <td>0.0</td>\n",
       "      <td>[Verse One]. I'm the most critically acclaimed...</td>\n",
       "      <td>ENGLISH</td>\n",
       "      <td>Hip Hop</td>\n",
       "    </tr>\n",
       "    <tr>\n",
       "      <th>1</th>\n",
       "      <td>\"The Sound Of Music\" Tribute (Oscars 2015)</td>\n",
       "      <td>Lady Gaga</td>\n",
       "      <td>93.9</td>\n",
       "      <td>The hills are alive with the sound of music. W...</td>\n",
       "      <td>ENGLISH</td>\n",
       "      <td>Pop</td>\n",
       "    </tr>\n",
       "    <tr>\n",
       "      <th>2</th>\n",
       "      <td>\"cassius\" Love Vs. \"sonny\" Wilson</td>\n",
       "      <td>The Beach Boys</td>\n",
       "      <td>1.0</td>\n",
       "      <td>Hi, this is Al. This scene takes place at a ty...</td>\n",
       "      <td>ENGLISH</td>\n",
       "      <td>Rock</td>\n",
       "    </tr>\n",
       "    <tr>\n",
       "      <th>3</th>\n",
       "      <td>#1</td>\n",
       "      <td>Nelly</td>\n",
       "      <td>3.1</td>\n",
       "      <td>Uh uh uh. I just gotta bring it to they attent...</td>\n",
       "      <td>ENGLISH</td>\n",
       "      <td>Hip Hop</td>\n",
       "    </tr>\n",
       "    <tr>\n",
       "      <th>4</th>\n",
       "      <td>#1 Crush</td>\n",
       "      <td>Garbage</td>\n",
       "      <td>0.4</td>\n",
       "      <td>I would die for you. I would die for you. I've...</td>\n",
       "      <td>ENGLISH</td>\n",
       "      <td>Rock</td>\n",
       "    </tr>\n",
       "  </tbody>\n",
       "</table>\n",
       "</div>"
      ],
      "text/plain": [
       "                                        Title          Artist  Popularity  \\\n",
       "0                     \"Oh Yeah\" By Foxy Brown      Foxy Brown         0.0   \n",
       "1  \"The Sound Of Music\" Tribute (Oscars 2015)       Lady Gaga        93.9   \n",
       "2           \"cassius\" Love Vs. \"sonny\" Wilson  The Beach Boys         1.0   \n",
       "3                                          #1           Nelly         3.1   \n",
       "4                                    #1 Crush         Garbage         0.4   \n",
       "\n",
       "                                               Lyric    Idiom    Genre  \n",
       "0  [Verse One]. I'm the most critically acclaimed...  ENGLISH  Hip Hop  \n",
       "1  The hills are alive with the sound of music. W...  ENGLISH      Pop  \n",
       "2  Hi, this is Al. This scene takes place at a ty...  ENGLISH     Rock  \n",
       "3  Uh uh uh. I just gotta bring it to they attent...  ENGLISH  Hip Hop  \n",
       "4  I would die for you. I would die for you. I've...  ENGLISH     Rock  "
      ]
     },
     "execution_count": 36,
     "metadata": {},
     "output_type": "execute_result"
    }
   ],
   "source": [
    "df.head() #Gives you the head (5 rows in default) of the data frame. \n",
    "#We have the columns \"Title\", \"Artist\", \"Popularity\", \"Lyric\", \"Idiom\" and \"Genre\".\n"
   ]
  },
  {
   "cell_type": "markdown",
   "metadata": {},
   "source": [
    "#### Inspect the data"
   ]
  },
  {
   "cell_type": "code",
   "execution_count": 37,
   "metadata": {},
   "outputs": [
    {
     "data": {
      "text/plain": [
       "87290"
      ]
     },
     "execution_count": 37,
     "metadata": {},
     "output_type": "execute_result"
    }
   ],
   "source": [
    "len(df) #Number of rows/cases."
   ]
  },
  {
   "cell_type": "code",
   "execution_count": 38,
   "metadata": {},
   "outputs": [
    {
     "data": {
      "text/plain": [
       "'[Verse One]. I\\'m the most critically acclaimed, rap bitch in the game. Coast to coast, stash the gat in holster girl. Dark skinned, Christian Dior poster girl. Mo\\' rockin Timbs bitch and the Gucci loafers girl. Niggaz say I\\'m too pretty to spit rhymes this gritty. Fuck y\\'all thought? Be dancin around in suits like I\\'m {Diddy}. Pretty, show niggaz how we run this city. Respect my name, Boogie nigga, stay in ya lane. Like The Hurricane, rains on bitches like Sugar Shane. And dare one of y\\'all rappin chicks to mention Fox name. \"What\\'s Beef?\" Beef is when bitches think it\\'s sweet. See y\\'all frontin in the streets and let my gat meet ya. 1- Why Yoooooooo, Why yo yo yo. Why Yoooooooo, Why yagga ya yo. Why Yoooooooo, Why yo yo yo. Why Yoooooooo, Why yagga ya yo (yagga yo). Check, uhh. It\\'s like I\\'m in my own fuckin world, I speak how I feel. Sometimes I feel like I\\'m just too fuckin real. I love to stack riches, no disrespect y\\'all. I respect the rap game, but I don\\'t fuck with rap bitches. I\\'m speakin from my heart. It\\'s not that I\\'m too good, I\\'m just hood. Been like this from the fuckin start. Since I bust my gun in ninety-six. Y\\'all never see me flick up with them fake-ass chicks. Bitches smile up in your face, turn around and pop shit. You a industry bitch, I\\'m a in the streets bitch. I might breeze through Prada, Chloe or Tiffs. But, other than that it\\'s just me and my six. repeat 1. I dream filthy. My moms and pops mixed it with the Trini\\' rum and whiskey. Uhh, proper set off. Six sped off, gats let off, I speak calm. Gangsta, and pours off like Screechie Don, bwoy. Who y\\'all know rock Prada like Fox. Pop bottles in the back of the cellar with Donatella. Cartier wrist wear, Pasha Kay face. Got niggaz stand in line just to get a sneak taste. Act like y\\'all don\\'t know I keeps gat beneath waist. And like a hundred thou\\' each crib in each safe. When Fox come through she have a gun in the place. I\\'m like Marion Jones, what, who the FLUCK wan\\' race?. Listen, never trippin, never catch Brown slippin. Fuck, y\\'all only nice around mics like Pippen. Shit, to all my thugs that\\'s Blood\\'n or Crip\\'n. I\\'m still shittin, still lowridin and switch-hittin nigga.'"
      ]
     },
     "execution_count": 38,
     "metadata": {},
     "output_type": "execute_result"
    }
   ],
   "source": [
    "df[\"Lyric\"][0] \n",
    "#Shows u the content of 1 single cell. E.g. column \"Lyrics\", row 1 (=index nr. 0)."
   ]
  },
  {
   "cell_type": "code",
   "execution_count": 39,
   "metadata": {},
   "outputs": [
    {
     "data": {
      "text/plain": [
       "Rock       48859\n",
       "Pop        24117\n",
       "Hip Hop    14314\n",
       "Name: Genre, dtype: int64"
      ]
     },
     "execution_count": 39,
     "metadata": {},
     "output_type": "execute_result"
    }
   ],
   "source": [
    "df[\"Genre\"].value_counts() #Overview of values in one column, e.g. in column \"Genre\"."
   ]
  },
  {
   "cell_type": "code",
   "execution_count": 40,
   "metadata": {},
   "outputs": [
    {
     "data": {
      "text/plain": [
       "ENGLISH    87028\n",
       "GERMAN       262\n",
       "Name: Idiom, dtype: int64"
      ]
     },
     "execution_count": 40,
     "metadata": {},
     "output_type": "execute_result"
    }
   ],
   "source": [
    "df[\"Idiom\"].value_counts() #Overview of values in one column."
   ]
  },
  {
   "cell_type": "code",
   "execution_count": 41,
   "metadata": {},
   "outputs": [
    {
     "data": {
      "text/plain": [
       "1122"
      ]
     },
     "execution_count": 41,
     "metadata": {},
     "output_type": "execute_result"
    }
   ],
   "source": [
    "df['Artist'].nunique() \n",
    "#Shows Nr of unique values in a column. E.g. in column \"Artist\"."
   ]
  },
  {
   "cell_type": "markdown",
   "metadata": {},
   "source": [
    "#### Drop cases with missing values"
   ]
  },
  {
   "cell_type": "code",
   "execution_count": 42,
   "metadata": {},
   "outputs": [],
   "source": [
    "df.dropna(inplace=True,subset=None) #Instead of None you can specify by column(s). \n",
    "#E.g. subset=\"Genre\", what would drop cases with NAN in column \"Genre\"."
   ]
  },
  {
   "cell_type": "markdown",
   "metadata": {},
   "source": [
    "#### Sort by column values"
   ]
  },
  {
   "cell_type": "code",
   "execution_count": 43,
   "metadata": {},
   "outputs": [],
   "source": [
    "df.sort_values('Title', \n",
    "               inplace=True) #Inplace saves your changes in the df."
   ]
  },
  {
   "cell_type": "code",
   "execution_count": 44,
   "metadata": {},
   "outputs": [
    {
     "data": {
      "text/html": [
       "<div>\n",
       "<style scoped>\n",
       "    .dataframe tbody tr th:only-of-type {\n",
       "        vertical-align: middle;\n",
       "    }\n",
       "\n",
       "    .dataframe tbody tr th {\n",
       "        vertical-align: top;\n",
       "    }\n",
       "\n",
       "    .dataframe thead th {\n",
       "        text-align: right;\n",
       "    }\n",
       "</style>\n",
       "<table border=\"1\" class=\"dataframe\">\n",
       "  <thead>\n",
       "    <tr style=\"text-align: right;\">\n",
       "      <th></th>\n",
       "      <th>Title</th>\n",
       "      <th>Artist</th>\n",
       "      <th>Popularity</th>\n",
       "      <th>Lyric</th>\n",
       "      <th>Idiom</th>\n",
       "      <th>Genre</th>\n",
       "    </tr>\n",
       "  </thead>\n",
       "  <tbody>\n",
       "    <tr>\n",
       "      <th>0</th>\n",
       "      <td>\"Oh Yeah\" By Foxy Brown</td>\n",
       "      <td>Foxy Brown</td>\n",
       "      <td>0.0</td>\n",
       "      <td>[Verse One]. I'm the most critically acclaimed...</td>\n",
       "      <td>ENGLISH</td>\n",
       "      <td>Hip Hop</td>\n",
       "    </tr>\n",
       "    <tr>\n",
       "      <th>1</th>\n",
       "      <td>\"The Sound Of Music\" Tribute (Oscars 2015)</td>\n",
       "      <td>Lady Gaga</td>\n",
       "      <td>93.9</td>\n",
       "      <td>The hills are alive with the sound of music. W...</td>\n",
       "      <td>ENGLISH</td>\n",
       "      <td>Pop</td>\n",
       "    </tr>\n",
       "    <tr>\n",
       "      <th>2</th>\n",
       "      <td>\"cassius\" Love Vs. \"sonny\" Wilson</td>\n",
       "      <td>The Beach Boys</td>\n",
       "      <td>1.0</td>\n",
       "      <td>Hi, this is Al. This scene takes place at a ty...</td>\n",
       "      <td>ENGLISH</td>\n",
       "      <td>Rock</td>\n",
       "    </tr>\n",
       "    <tr>\n",
       "      <th>3</th>\n",
       "      <td>#1</td>\n",
       "      <td>Nelly</td>\n",
       "      <td>3.1</td>\n",
       "      <td>Uh uh uh. I just gotta bring it to they attent...</td>\n",
       "      <td>ENGLISH</td>\n",
       "      <td>Hip Hop</td>\n",
       "    </tr>\n",
       "    <tr>\n",
       "      <th>4</th>\n",
       "      <td>#1 Crush</td>\n",
       "      <td>Garbage</td>\n",
       "      <td>0.4</td>\n",
       "      <td>I would die for you. I would die for you. I've...</td>\n",
       "      <td>ENGLISH</td>\n",
       "      <td>Rock</td>\n",
       "    </tr>\n",
       "    <tr>\n",
       "      <th>5</th>\n",
       "      <td>#1 Fan</td>\n",
       "      <td>Plies</td>\n",
       "      <td>0.1</td>\n",
       "      <td>[Plies:]. It's Plies, baby {Plies, baby}. And ...</td>\n",
       "      <td>ENGLISH</td>\n",
       "      <td>Hip Hop</td>\n",
       "    </tr>\n",
       "    <tr>\n",
       "      <th>6</th>\n",
       "      <td>#1 Girl</td>\n",
       "      <td>Mindless Behavior</td>\n",
       "      <td>0.0</td>\n",
       "      <td>My number 1, be my number 1, be my number 1 gi...</td>\n",
       "      <td>ENGLISH</td>\n",
       "      <td>Pop</td>\n",
       "    </tr>\n",
       "    <tr>\n",
       "      <th>7</th>\n",
       "      <td>#1 Zero</td>\n",
       "      <td>Audioslave</td>\n",
       "      <td>4.3</td>\n",
       "      <td>Listen now, let me speak. I will be the dog at...</td>\n",
       "      <td>ENGLISH</td>\n",
       "      <td>Rock</td>\n",
       "    </tr>\n",
       "    <tr>\n",
       "      <th>8</th>\n",
       "      <td>#Beautiful (Feat. Miguel)</td>\n",
       "      <td>Mariah Carey</td>\n",
       "      <td>13.9</td>\n",
       "      <td>Ah, ah, you're beautiful. Ah, ah, you're beaut...</td>\n",
       "      <td>ENGLISH</td>\n",
       "      <td>Pop</td>\n",
       "    </tr>\n",
       "    <tr>\n",
       "      <th>9</th>\n",
       "      <td>#Beautiful (Remix) (feat. Miguel, A$AP Rocky)</td>\n",
       "      <td>Mariah Carey</td>\n",
       "      <td>13.9</td>\n",
       "      <td>It's like our first date. Time pass fast like ...</td>\n",
       "      <td>ENGLISH</td>\n",
       "      <td>Pop</td>\n",
       "    </tr>\n",
       "    <tr>\n",
       "      <th>10</th>\n",
       "      <td>#Endoftheworld</td>\n",
       "      <td>Xv</td>\n",
       "      <td>0.0</td>\n",
       "      <td>Let me in your life, let me in your homes. Let...</td>\n",
       "      <td>ENGLISH</td>\n",
       "      <td>Hip Hop</td>\n",
       "    </tr>\n",
       "    <tr>\n",
       "      <th>11</th>\n",
       "      <td>#GETITRIGHT</td>\n",
       "      <td>Miley Cyrus</td>\n",
       "      <td>16.6</td>\n",
       "      <td>Feel a surge coming over me. I feel it all aro...</td>\n",
       "      <td>ENGLISH</td>\n",
       "      <td>Pop</td>\n",
       "    </tr>\n",
       "    <tr>\n",
       "      <th>12</th>\n",
       "      <td>#Wheresthelove (feat. The World)</td>\n",
       "      <td>Black Eyed Peas</td>\n",
       "      <td>14.0</td>\n",
       "      <td>[will. I. am]. People killin' people dyin'. Ch...</td>\n",
       "      <td>ENGLISH</td>\n",
       "      <td>Hip Hop</td>\n",
       "    </tr>\n",
       "    <tr>\n",
       "      <th>13</th>\n",
       "      <td>#comeup</td>\n",
       "      <td>Mindless Behavior</td>\n",
       "      <td>0.0</td>\n",
       "      <td>One time for all of my. Waitresses with the sp...</td>\n",
       "      <td>ENGLISH</td>\n",
       "      <td>Pop</td>\n",
       "    </tr>\n",
       "    <tr>\n",
       "      <th>14</th>\n",
       "      <td>#iwantdat (Feat. Problem, Bad Lucc)</td>\n",
       "      <td>Mindless Behavior</td>\n",
       "      <td>0.0</td>\n",
       "      <td>[Verso 1: Problem]. Charge your own 10, charge...</td>\n",
       "      <td>ENGLISH</td>\n",
       "      <td>Pop</td>\n",
       "    </tr>\n",
       "    <tr>\n",
       "      <th>15</th>\n",
       "      <td>#thatpower (feat. Justin Bieber)</td>\n",
       "      <td>will.i.am</td>\n",
       "      <td>0.9</td>\n",
       "      <td>And oh. I'm alive, I'm alive, I'm alive. And o...</td>\n",
       "      <td>ENGLISH</td>\n",
       "      <td>Hip Hop</td>\n",
       "    </tr>\n",
       "    <tr>\n",
       "      <th>16</th>\n",
       "      <td>$$$ (With Matt OX)</td>\n",
       "      <td>XXXTentacion</td>\n",
       "      <td>9.2</td>\n",
       "      <td>Pew. Get money, yeah yeah. Get money, yeah, ge...</td>\n",
       "      <td>ENGLISH</td>\n",
       "      <td>Hip Hop</td>\n",
       "    </tr>\n",
       "    <tr>\n",
       "      <th>17</th>\n",
       "      <td>$$$ex (Feat. Yla)</td>\n",
       "      <td>Vanessa Hudgens</td>\n",
       "      <td>0.7</td>\n",
       "      <td>Can't you feel my hot sex, heart stop beating?...</td>\n",
       "      <td>ENGLISH</td>\n",
       "      <td>Pop</td>\n",
       "    </tr>\n",
       "    <tr>\n",
       "      <th>18</th>\n",
       "      <td>$,O,36</td>\n",
       "      <td>Killing Joke</td>\n",
       "      <td>0.1</td>\n",
       "      <td>one man limited room to think. move with the l...</td>\n",
       "      <td>ENGLISH</td>\n",
       "      <td>Rock</td>\n",
       "    </tr>\n",
       "    <tr>\n",
       "      <th>19</th>\n",
       "      <td>$100 Bill, Y'all</td>\n",
       "      <td>Ice Cube</td>\n",
       "      <td>1.3</td>\n",
       "      <td>Get numbers, get names. Thick dames. Headhunte...</td>\n",
       "      <td>ENGLISH</td>\n",
       "      <td>Hip Hop</td>\n",
       "    </tr>\n",
       "  </tbody>\n",
       "</table>\n",
       "</div>"
      ],
      "text/plain": [
       "                                            Title             Artist  \\\n",
       "0                         \"Oh Yeah\" By Foxy Brown         Foxy Brown   \n",
       "1      \"The Sound Of Music\" Tribute (Oscars 2015)          Lady Gaga   \n",
       "2               \"cassius\" Love Vs. \"sonny\" Wilson     The Beach Boys   \n",
       "3                                              #1              Nelly   \n",
       "4                                        #1 Crush            Garbage   \n",
       "5                                          #1 Fan              Plies   \n",
       "6                                         #1 Girl  Mindless Behavior   \n",
       "7                                         #1 Zero         Audioslave   \n",
       "8                       #Beautiful (Feat. Miguel)       Mariah Carey   \n",
       "9   #Beautiful (Remix) (feat. Miguel, A$AP Rocky)       Mariah Carey   \n",
       "10                                 #Endoftheworld                 Xv   \n",
       "11                                    #GETITRIGHT        Miley Cyrus   \n",
       "12               #Wheresthelove (feat. The World)    Black Eyed Peas   \n",
       "13                                        #comeup  Mindless Behavior   \n",
       "14            #iwantdat (Feat. Problem, Bad Lucc)  Mindless Behavior   \n",
       "15               #thatpower (feat. Justin Bieber)          will.i.am   \n",
       "16                             $$$ (With Matt OX)       XXXTentacion   \n",
       "17                              $$$ex (Feat. Yla)    Vanessa Hudgens   \n",
       "18                                         $,O,36       Killing Joke   \n",
       "19                               $100 Bill, Y'all           Ice Cube   \n",
       "\n",
       "    Popularity                                              Lyric    Idiom  \\\n",
       "0          0.0  [Verse One]. I'm the most critically acclaimed...  ENGLISH   \n",
       "1         93.9  The hills are alive with the sound of music. W...  ENGLISH   \n",
       "2          1.0  Hi, this is Al. This scene takes place at a ty...  ENGLISH   \n",
       "3          3.1  Uh uh uh. I just gotta bring it to they attent...  ENGLISH   \n",
       "4          0.4  I would die for you. I would die for you. I've...  ENGLISH   \n",
       "5          0.1  [Plies:]. It's Plies, baby {Plies, baby}. And ...  ENGLISH   \n",
       "6          0.0  My number 1, be my number 1, be my number 1 gi...  ENGLISH   \n",
       "7          4.3  Listen now, let me speak. I will be the dog at...  ENGLISH   \n",
       "8         13.9  Ah, ah, you're beautiful. Ah, ah, you're beaut...  ENGLISH   \n",
       "9         13.9  It's like our first date. Time pass fast like ...  ENGLISH   \n",
       "10         0.0  Let me in your life, let me in your homes. Let...  ENGLISH   \n",
       "11        16.6  Feel a surge coming over me. I feel it all aro...  ENGLISH   \n",
       "12        14.0  [will. I. am]. People killin' people dyin'. Ch...  ENGLISH   \n",
       "13         0.0  One time for all of my. Waitresses with the sp...  ENGLISH   \n",
       "14         0.0  [Verso 1: Problem]. Charge your own 10, charge...  ENGLISH   \n",
       "15         0.9  And oh. I'm alive, I'm alive, I'm alive. And o...  ENGLISH   \n",
       "16         9.2  Pew. Get money, yeah yeah. Get money, yeah, ge...  ENGLISH   \n",
       "17         0.7  Can't you feel my hot sex, heart stop beating?...  ENGLISH   \n",
       "18         0.1  one man limited room to think. move with the l...  ENGLISH   \n",
       "19         1.3  Get numbers, get names. Thick dames. Headhunte...  ENGLISH   \n",
       "\n",
       "      Genre  \n",
       "0   Hip Hop  \n",
       "1       Pop  \n",
       "2      Rock  \n",
       "3   Hip Hop  \n",
       "4      Rock  \n",
       "5   Hip Hop  \n",
       "6       Pop  \n",
       "7      Rock  \n",
       "8       Pop  \n",
       "9       Pop  \n",
       "10  Hip Hop  \n",
       "11      Pop  \n",
       "12  Hip Hop  \n",
       "13      Pop  \n",
       "14      Pop  \n",
       "15  Hip Hop  \n",
       "16  Hip Hop  \n",
       "17      Pop  \n",
       "18     Rock  \n",
       "19  Hip Hop  "
      ]
     },
     "execution_count": 44,
     "metadata": {},
     "output_type": "execute_result"
    }
   ],
   "source": [
    "df.head(20) #Shows the first 20 rows of the (sorted) df."
   ]
  },
  {
   "cell_type": "markdown",
   "metadata": {},
   "source": [
    "#### Save as csv file"
   ]
  },
  {
   "cell_type": "code",
   "execution_count": 45,
   "metadata": {},
   "outputs": [],
   "source": [
    "df.to_csv(\"./Data/Songtexts_by_Genre_DataFrame_edit.csv\",\n",
    "              index=False)"
   ]
  },
  {
   "cell_type": "markdown",
   "metadata": {},
   "source": [
    "## Data Set B - News by Topic\n"
   ]
  },
  {
   "cell_type": "markdown",
   "metadata": {},
   "source": [
    "#### Read data from csv file"
   ]
  },
  {
   "cell_type": "code",
   "execution_count": 51,
   "metadata": {},
   "outputs": [],
   "source": [
    "df_2 = pd.read_csv(\"./Data/News_by_Topic_DataFrame_(foeg).csv\", sep=\",\") \n",
    "#There are several more parameter options in addition to \"sep\"."
   ]
  },
  {
   "cell_type": "markdown",
   "metadata": {},
   "source": [
    "#### Drop columns"
   ]
  },
  {
   "cell_type": "code",
   "execution_count": 52,
   "metadata": {
    "collapsed": true
   },
   "outputs": [
    {
     "data": {
      "text/html": [
       "<div>\n",
       "<style scoped>\n",
       "    .dataframe tbody tr th:only-of-type {\n",
       "        vertical-align: middle;\n",
       "    }\n",
       "\n",
       "    .dataframe tbody tr th {\n",
       "        vertical-align: top;\n",
       "    }\n",
       "\n",
       "    .dataframe thead th {\n",
       "        text-align: right;\n",
       "    }\n",
       "</style>\n",
       "<table border=\"1\" class=\"dataframe\">\n",
       "  <thead>\n",
       "    <tr style=\"text-align: right;\">\n",
       "      <th></th>\n",
       "      <th>Unnamed: 0</th>\n",
       "      <th>MediumID</th>\n",
       "      <th>BeitragID</th>\n",
       "      <th>BeitragDT</th>\n",
       "      <th>MedienStrSprachGattungTyp_Hierarchie4</th>\n",
       "      <th>MedienStrSprachGattungTyp_Hierarchie5</th>\n",
       "      <th>Jahr</th>\n",
       "      <th>Monat</th>\n",
       "      <th>Sphäre_Hier2</th>\n",
       "      <th>Titel</th>\n",
       "      <th>Inhalt</th>\n",
       "    </tr>\n",
       "  </thead>\n",
       "  <tbody>\n",
       "    <tr>\n",
       "      <th>0</th>\n",
       "      <td>15</td>\n",
       "      <td>947</td>\n",
       "      <td>20862570</td>\n",
       "      <td>2017-04-19</td>\n",
       "      <td>Gratis-O</td>\n",
       "      <td>20minuten.ch</td>\n",
       "      <td>2017-01-01</td>\n",
       "      <td>2017-04-01</td>\n",
       "      <td>05 Human Interest</td>\n",
       "      <td>Überall Schnee? Mach das Beste draus!</td>\n",
       "      <td>Der April macht seinem Ruf alle Ehre und verpa...</td>\n",
       "    </tr>\n",
       "    <tr>\n",
       "      <th>1</th>\n",
       "      <td>16</td>\n",
       "      <td>947</td>\n",
       "      <td>20862528</td>\n",
       "      <td>2017-04-19</td>\n",
       "      <td>Gratis-O</td>\n",
       "      <td>20minuten.ch</td>\n",
       "      <td>2017-01-01</td>\n",
       "      <td>2017-04-01</td>\n",
       "      <td>05 Human Interest</td>\n",
       "      <td>Bei diesen Bildern fragst du dich nur noch «WTF?»</td>\n",
       "      <td>Bei manchen Fotos, die uns im Netz begegnen, k...</td>\n",
       "    </tr>\n",
       "    <tr>\n",
       "      <th>2</th>\n",
       "      <td>17</td>\n",
       "      <td>946</td>\n",
       "      <td>20861908</td>\n",
       "      <td>2017-04-19</td>\n",
       "      <td>Boulevard-O</td>\n",
       "      <td>Blick.ch</td>\n",
       "      <td>2017-01-01</td>\n",
       "      <td>2017-04-01</td>\n",
       "      <td>02 Wirtschaft</td>\n",
       "      <td>Angriff auf SBB-Monopol im Fernverkehr\\r\\nBern...</td>\n",
       "      <td>BERN -    Die BLS greift die SBB an: Die Berne...</td>\n",
       "    </tr>\n",
       "    <tr>\n",
       "      <th>3</th>\n",
       "      <td>18</td>\n",
       "      <td>946</td>\n",
       "      <td>20861884</td>\n",
       "      <td>2017-04-19</td>\n",
       "      <td>Boulevard-O</td>\n",
       "      <td>Blick.ch</td>\n",
       "      <td>2017-01-01</td>\n",
       "      <td>2017-04-01</td>\n",
       "      <td>05 Human Interest</td>\n",
       "      <td>Taucher begegnen ganzer Kolonie: Salpen-Zauber...</td>\n",
       "      <td>In der Andamanensee vor der Küste von Myanmar ...</td>\n",
       "    </tr>\n",
       "    <tr>\n",
       "      <th>4</th>\n",
       "      <td>21</td>\n",
       "      <td>946</td>\n",
       "      <td>20861874</td>\n",
       "      <td>2017-04-19</td>\n",
       "      <td>Boulevard-O</td>\n",
       "      <td>Blick.ch</td>\n",
       "      <td>2017-01-01</td>\n",
       "      <td>2017-04-01</td>\n",
       "      <td>05 Human Interest</td>\n",
       "      <td>4 goldene Tipps: So schützen Sie ihre Pflanzen...</td>\n",
       "      <td>Die aktuell tiefen Temperaturen und der damit ...</td>\n",
       "    </tr>\n",
       "  </tbody>\n",
       "</table>\n",
       "</div>"
      ],
      "text/plain": [
       "   Unnamed: 0  MediumID  BeitragID   BeitragDT  \\\n",
       "0          15       947   20862570  2017-04-19   \n",
       "1          16       947   20862528  2017-04-19   \n",
       "2          17       946   20861908  2017-04-19   \n",
       "3          18       946   20861884  2017-04-19   \n",
       "4          21       946   20861874  2017-04-19   \n",
       "\n",
       "  MedienStrSprachGattungTyp_Hierarchie4 MedienStrSprachGattungTyp_Hierarchie5  \\\n",
       "0                              Gratis-O                          20minuten.ch   \n",
       "1                              Gratis-O                          20minuten.ch   \n",
       "2                           Boulevard-O                              Blick.ch   \n",
       "3                           Boulevard-O                              Blick.ch   \n",
       "4                           Boulevard-O                              Blick.ch   \n",
       "\n",
       "         Jahr       Monat       Sphäre_Hier2  \\\n",
       "0  2017-01-01  2017-04-01  05 Human Interest   \n",
       "1  2017-01-01  2017-04-01  05 Human Interest   \n",
       "2  2017-01-01  2017-04-01      02 Wirtschaft   \n",
       "3  2017-01-01  2017-04-01  05 Human Interest   \n",
       "4  2017-01-01  2017-04-01  05 Human Interest   \n",
       "\n",
       "                                               Titel  \\\n",
       "0              Überall Schnee? Mach das Beste draus!   \n",
       "1  Bei diesen Bildern fragst du dich nur noch «WTF?»   \n",
       "2  Angriff auf SBB-Monopol im Fernverkehr\\r\\nBern...   \n",
       "3  Taucher begegnen ganzer Kolonie: Salpen-Zauber...   \n",
       "4  4 goldene Tipps: So schützen Sie ihre Pflanzen...   \n",
       "\n",
       "                                              Inhalt  \n",
       "0  Der April macht seinem Ruf alle Ehre und verpa...  \n",
       "1  Bei manchen Fotos, die uns im Netz begegnen, k...  \n",
       "2  BERN -    Die BLS greift die SBB an: Die Berne...  \n",
       "3  In der Andamanensee vor der Küste von Myanmar ...  \n",
       "4  Die aktuell tiefen Temperaturen und der damit ...  "
      ]
     },
     "execution_count": 52,
     "metadata": {},
     "output_type": "execute_result"
    }
   ],
   "source": [
    "df_2.head()\n",
    "#We don't want the first column \"Unnamend: 0\" as an index column."
   ]
  },
  {
   "cell_type": "code",
   "execution_count": 61,
   "metadata": {},
   "outputs": [],
   "source": [
    "#Let's try again. Now we added \"index_col=[0]\" as an argument for reading.\n",
    "df_2 = pd.read_csv(\"./Data/News_by_Topic_DataFrame_(foeg).csv\", sep=\",\", index_col=[0]) \n"
   ]
  },
  {
   "cell_type": "code",
   "execution_count": 63,
   "metadata": {
    "collapsed": true
   },
   "outputs": [
    {
     "data": {
      "text/html": [
       "<div>\n",
       "<style scoped>\n",
       "    .dataframe tbody tr th:only-of-type {\n",
       "        vertical-align: middle;\n",
       "    }\n",
       "\n",
       "    .dataframe tbody tr th {\n",
       "        vertical-align: top;\n",
       "    }\n",
       "\n",
       "    .dataframe thead th {\n",
       "        text-align: right;\n",
       "    }\n",
       "</style>\n",
       "<table border=\"1\" class=\"dataframe\">\n",
       "  <thead>\n",
       "    <tr style=\"text-align: right;\">\n",
       "      <th></th>\n",
       "      <th>MediumID</th>\n",
       "      <th>BeitragID</th>\n",
       "      <th>BeitragDT</th>\n",
       "      <th>MedienStrSprachGattungTyp_Hierarchie4</th>\n",
       "      <th>MedienStrSprachGattungTyp_Hierarchie5</th>\n",
       "      <th>Jahr</th>\n",
       "      <th>Monat</th>\n",
       "      <th>Sphäre_Hier2</th>\n",
       "      <th>Titel</th>\n",
       "      <th>Inhalt</th>\n",
       "    </tr>\n",
       "  </thead>\n",
       "  <tbody>\n",
       "    <tr>\n",
       "      <th>15</th>\n",
       "      <td>947</td>\n",
       "      <td>20862570</td>\n",
       "      <td>2017-04-19</td>\n",
       "      <td>Gratis-O</td>\n",
       "      <td>20minuten.ch</td>\n",
       "      <td>2017-01-01</td>\n",
       "      <td>2017-04-01</td>\n",
       "      <td>05 Human Interest</td>\n",
       "      <td>Überall Schnee? Mach das Beste draus!</td>\n",
       "      <td>Der April macht seinem Ruf alle Ehre und verpa...</td>\n",
       "    </tr>\n",
       "    <tr>\n",
       "      <th>16</th>\n",
       "      <td>947</td>\n",
       "      <td>20862528</td>\n",
       "      <td>2017-04-19</td>\n",
       "      <td>Gratis-O</td>\n",
       "      <td>20minuten.ch</td>\n",
       "      <td>2017-01-01</td>\n",
       "      <td>2017-04-01</td>\n",
       "      <td>05 Human Interest</td>\n",
       "      <td>Bei diesen Bildern fragst du dich nur noch «WTF?»</td>\n",
       "      <td>Bei manchen Fotos, die uns im Netz begegnen, k...</td>\n",
       "    </tr>\n",
       "    <tr>\n",
       "      <th>17</th>\n",
       "      <td>946</td>\n",
       "      <td>20861908</td>\n",
       "      <td>2017-04-19</td>\n",
       "      <td>Boulevard-O</td>\n",
       "      <td>Blick.ch</td>\n",
       "      <td>2017-01-01</td>\n",
       "      <td>2017-04-01</td>\n",
       "      <td>02 Wirtschaft</td>\n",
       "      <td>Angriff auf SBB-Monopol im Fernverkehr\\r\\nBern...</td>\n",
       "      <td>BERN -    Die BLS greift die SBB an: Die Berne...</td>\n",
       "    </tr>\n",
       "    <tr>\n",
       "      <th>18</th>\n",
       "      <td>946</td>\n",
       "      <td>20861884</td>\n",
       "      <td>2017-04-19</td>\n",
       "      <td>Boulevard-O</td>\n",
       "      <td>Blick.ch</td>\n",
       "      <td>2017-01-01</td>\n",
       "      <td>2017-04-01</td>\n",
       "      <td>05 Human Interest</td>\n",
       "      <td>Taucher begegnen ganzer Kolonie: Salpen-Zauber...</td>\n",
       "      <td>In der Andamanensee vor der Küste von Myanmar ...</td>\n",
       "    </tr>\n",
       "    <tr>\n",
       "      <th>21</th>\n",
       "      <td>946</td>\n",
       "      <td>20861874</td>\n",
       "      <td>2017-04-19</td>\n",
       "      <td>Boulevard-O</td>\n",
       "      <td>Blick.ch</td>\n",
       "      <td>2017-01-01</td>\n",
       "      <td>2017-04-01</td>\n",
       "      <td>05 Human Interest</td>\n",
       "      <td>4 goldene Tipps: So schützen Sie ihre Pflanzen...</td>\n",
       "      <td>Die aktuell tiefen Temperaturen und der damit ...</td>\n",
       "    </tr>\n",
       "  </tbody>\n",
       "</table>\n",
       "</div>"
      ],
      "text/plain": [
       "    MediumID  BeitragID   BeitragDT MedienStrSprachGattungTyp_Hierarchie4  \\\n",
       "15       947   20862570  2017-04-19                              Gratis-O   \n",
       "16       947   20862528  2017-04-19                              Gratis-O   \n",
       "17       946   20861908  2017-04-19                           Boulevard-O   \n",
       "18       946   20861884  2017-04-19                           Boulevard-O   \n",
       "21       946   20861874  2017-04-19                           Boulevard-O   \n",
       "\n",
       "   MedienStrSprachGattungTyp_Hierarchie5        Jahr       Monat  \\\n",
       "15                          20minuten.ch  2017-01-01  2017-04-01   \n",
       "16                          20minuten.ch  2017-01-01  2017-04-01   \n",
       "17                              Blick.ch  2017-01-01  2017-04-01   \n",
       "18                              Blick.ch  2017-01-01  2017-04-01   \n",
       "21                              Blick.ch  2017-01-01  2017-04-01   \n",
       "\n",
       "         Sphäre_Hier2                                              Titel  \\\n",
       "15  05 Human Interest              Überall Schnee? Mach das Beste draus!   \n",
       "16  05 Human Interest  Bei diesen Bildern fragst du dich nur noch «WTF?»   \n",
       "17      02 Wirtschaft  Angriff auf SBB-Monopol im Fernverkehr\\r\\nBern...   \n",
       "18  05 Human Interest  Taucher begegnen ganzer Kolonie: Salpen-Zauber...   \n",
       "21  05 Human Interest  4 goldene Tipps: So schützen Sie ihre Pflanzen...   \n",
       "\n",
       "                                               Inhalt  \n",
       "15  Der April macht seinem Ruf alle Ehre und verpa...  \n",
       "16  Bei manchen Fotos, die uns im Netz begegnen, k...  \n",
       "17  BERN -    Die BLS greift die SBB an: Die Berne...  \n",
       "18  In der Andamanensee vor der Küste von Myanmar ...  \n",
       "21  Die aktuell tiefen Temperaturen und der damit ...  "
      ]
     },
     "execution_count": 63,
     "metadata": {},
     "output_type": "execute_result"
    }
   ],
   "source": [
    "df_2.head()\n",
    "#Better! But we can get rid of several more columns, we want to concentrate on the text columns ;)"
   ]
  },
  {
   "cell_type": "code",
   "execution_count": 64,
   "metadata": {},
   "outputs": [],
   "source": [
    "df_2 = df_2.drop([\"MediumID\",'BeitragID',\"BeitragDT\", \"MedienStrSprachGattungTyp_Hierarchie4\", \"MedienStrSprachGattungTyp_Hierarchie5\", \"Jahr\", \"Monat\"], axis=1)"
   ]
  },
  {
   "cell_type": "code",
   "execution_count": 65,
   "metadata": {
    "collapsed": true
   },
   "outputs": [
    {
     "data": {
      "text/html": [
       "<div>\n",
       "<style scoped>\n",
       "    .dataframe tbody tr th:only-of-type {\n",
       "        vertical-align: middle;\n",
       "    }\n",
       "\n",
       "    .dataframe tbody tr th {\n",
       "        vertical-align: top;\n",
       "    }\n",
       "\n",
       "    .dataframe thead th {\n",
       "        text-align: right;\n",
       "    }\n",
       "</style>\n",
       "<table border=\"1\" class=\"dataframe\">\n",
       "  <thead>\n",
       "    <tr style=\"text-align: right;\">\n",
       "      <th></th>\n",
       "      <th>Sphäre_Hier2</th>\n",
       "      <th>Titel</th>\n",
       "      <th>Inhalt</th>\n",
       "    </tr>\n",
       "  </thead>\n",
       "  <tbody>\n",
       "    <tr>\n",
       "      <th>15</th>\n",
       "      <td>05 Human Interest</td>\n",
       "      <td>Überall Schnee? Mach das Beste draus!</td>\n",
       "      <td>Der April macht seinem Ruf alle Ehre und verpa...</td>\n",
       "    </tr>\n",
       "    <tr>\n",
       "      <th>16</th>\n",
       "      <td>05 Human Interest</td>\n",
       "      <td>Bei diesen Bildern fragst du dich nur noch «WTF?»</td>\n",
       "      <td>Bei manchen Fotos, die uns im Netz begegnen, k...</td>\n",
       "    </tr>\n",
       "    <tr>\n",
       "      <th>17</th>\n",
       "      <td>02 Wirtschaft</td>\n",
       "      <td>Angriff auf SBB-Monopol im Fernverkehr\\r\\nBern...</td>\n",
       "      <td>BERN -    Die BLS greift die SBB an: Die Berne...</td>\n",
       "    </tr>\n",
       "    <tr>\n",
       "      <th>18</th>\n",
       "      <td>05 Human Interest</td>\n",
       "      <td>Taucher begegnen ganzer Kolonie: Salpen-Zauber...</td>\n",
       "      <td>In der Andamanensee vor der Küste von Myanmar ...</td>\n",
       "    </tr>\n",
       "    <tr>\n",
       "      <th>21</th>\n",
       "      <td>05 Human Interest</td>\n",
       "      <td>4 goldene Tipps: So schützen Sie ihre Pflanzen...</td>\n",
       "      <td>Die aktuell tiefen Temperaturen und der damit ...</td>\n",
       "    </tr>\n",
       "  </tbody>\n",
       "</table>\n",
       "</div>"
      ],
      "text/plain": [
       "         Sphäre_Hier2                                              Titel  \\\n",
       "15  05 Human Interest              Überall Schnee? Mach das Beste draus!   \n",
       "16  05 Human Interest  Bei diesen Bildern fragst du dich nur noch «WTF?»   \n",
       "17      02 Wirtschaft  Angriff auf SBB-Monopol im Fernverkehr\\r\\nBern...   \n",
       "18  05 Human Interest  Taucher begegnen ganzer Kolonie: Salpen-Zauber...   \n",
       "21  05 Human Interest  4 goldene Tipps: So schützen Sie ihre Pflanzen...   \n",
       "\n",
       "                                               Inhalt  \n",
       "15  Der April macht seinem Ruf alle Ehre und verpa...  \n",
       "16  Bei manchen Fotos, die uns im Netz begegnen, k...  \n",
       "17  BERN -    Die BLS greift die SBB an: Die Berne...  \n",
       "18  In der Andamanensee vor der Küste von Myanmar ...  \n",
       "21  Die aktuell tiefen Temperaturen und der damit ...  "
      ]
     },
     "execution_count": 65,
     "metadata": {},
     "output_type": "execute_result"
    }
   ],
   "source": [
    "df_2.head() #Nice, but let's rename the column."
   ]
  },
  {
   "cell_type": "markdown",
   "metadata": {},
   "source": [
    "#### Rename a column"
   ]
  },
  {
   "cell_type": "code",
   "execution_count": 66,
   "metadata": {},
   "outputs": [],
   "source": [
    "df_2 = df_2.rename(columns={'Sphäre_Hier2': 'Topic'})"
   ]
  },
  {
   "cell_type": "code",
   "execution_count": 67,
   "metadata": {
    "collapsed": true
   },
   "outputs": [
    {
     "data": {
      "text/html": [
       "<div>\n",
       "<style scoped>\n",
       "    .dataframe tbody tr th:only-of-type {\n",
       "        vertical-align: middle;\n",
       "    }\n",
       "\n",
       "    .dataframe tbody tr th {\n",
       "        vertical-align: top;\n",
       "    }\n",
       "\n",
       "    .dataframe thead th {\n",
       "        text-align: right;\n",
       "    }\n",
       "</style>\n",
       "<table border=\"1\" class=\"dataframe\">\n",
       "  <thead>\n",
       "    <tr style=\"text-align: right;\">\n",
       "      <th></th>\n",
       "      <th>Topic</th>\n",
       "      <th>Titel</th>\n",
       "      <th>Inhalt</th>\n",
       "    </tr>\n",
       "  </thead>\n",
       "  <tbody>\n",
       "    <tr>\n",
       "      <th>15</th>\n",
       "      <td>05 Human Interest</td>\n",
       "      <td>Überall Schnee? Mach das Beste draus!</td>\n",
       "      <td>Der April macht seinem Ruf alle Ehre und verpa...</td>\n",
       "    </tr>\n",
       "    <tr>\n",
       "      <th>16</th>\n",
       "      <td>05 Human Interest</td>\n",
       "      <td>Bei diesen Bildern fragst du dich nur noch «WTF?»</td>\n",
       "      <td>Bei manchen Fotos, die uns im Netz begegnen, k...</td>\n",
       "    </tr>\n",
       "    <tr>\n",
       "      <th>17</th>\n",
       "      <td>02 Wirtschaft</td>\n",
       "      <td>Angriff auf SBB-Monopol im Fernverkehr\\r\\nBern...</td>\n",
       "      <td>BERN -    Die BLS greift die SBB an: Die Berne...</td>\n",
       "    </tr>\n",
       "    <tr>\n",
       "      <th>18</th>\n",
       "      <td>05 Human Interest</td>\n",
       "      <td>Taucher begegnen ganzer Kolonie: Salpen-Zauber...</td>\n",
       "      <td>In der Andamanensee vor der Küste von Myanmar ...</td>\n",
       "    </tr>\n",
       "    <tr>\n",
       "      <th>21</th>\n",
       "      <td>05 Human Interest</td>\n",
       "      <td>4 goldene Tipps: So schützen Sie ihre Pflanzen...</td>\n",
       "      <td>Die aktuell tiefen Temperaturen und der damit ...</td>\n",
       "    </tr>\n",
       "  </tbody>\n",
       "</table>\n",
       "</div>"
      ],
      "text/plain": [
       "                Topic                                              Titel  \\\n",
       "15  05 Human Interest              Überall Schnee? Mach das Beste draus!   \n",
       "16  05 Human Interest  Bei diesen Bildern fragst du dich nur noch «WTF?»   \n",
       "17      02 Wirtschaft  Angriff auf SBB-Monopol im Fernverkehr\\r\\nBern...   \n",
       "18  05 Human Interest  Taucher begegnen ganzer Kolonie: Salpen-Zauber...   \n",
       "21  05 Human Interest  4 goldene Tipps: So schützen Sie ihre Pflanzen...   \n",
       "\n",
       "                                               Inhalt  \n",
       "15  Der April macht seinem Ruf alle Ehre und verpa...  \n",
       "16  Bei manchen Fotos, die uns im Netz begegnen, k...  \n",
       "17  BERN -    Die BLS greift die SBB an: Die Berne...  \n",
       "18  In der Andamanensee vor der Küste von Myanmar ...  \n",
       "21  Die aktuell tiefen Temperaturen und der damit ...  "
      ]
     },
     "execution_count": 67,
     "metadata": {},
     "output_type": "execute_result"
    }
   ],
   "source": [
    "df_2.head()"
   ]
  },
  {
   "cell_type": "markdown",
   "metadata": {},
   "source": [
    "#### Overview of column values"
   ]
  },
  {
   "cell_type": "code",
   "execution_count": 68,
   "metadata": {},
   "outputs": [
    {
     "data": {
      "text/plain": [
       "05 Human Interest    2763\n",
       "01 Politik           2395\n",
       "04 Sport             1324\n",
       "03 Kultur            1217\n",
       "02 Wirtschaft        1187\n",
       "Name: Topic, dtype: int64"
      ]
     },
     "execution_count": 68,
     "metadata": {},
     "output_type": "execute_result"
    }
   ],
   "source": [
    "df_2[\"Topic\"].value_counts() #Overview of values in one column. Here, we have 5 different topics."
   ]
  },
  {
   "cell_type": "markdown",
   "metadata": {},
   "source": [
    "#### Save as csv file"
   ]
  },
  {
   "cell_type": "markdown",
   "metadata": {},
   "source": [
    "You can save the narrow dataset as csv file so that you don't have to do it all over again next time."
   ]
  },
  {
   "cell_type": "code",
   "execution_count": 27,
   "metadata": {},
   "outputs": [],
   "source": [
    "df_2.to_csv(\"./Data/News_by_Topic_DataFrame_(foeg)_reduced.csv\",\n",
    "              index=False)"
   ]
  },
  {
   "cell_type": "markdown",
   "metadata": {},
   "source": [
    "## Data Set 3 - Sentiment of Tweets"
   ]
  },
  {
   "cell_type": "code",
   "execution_count": 28,
   "metadata": {},
   "outputs": [],
   "source": [
    "df_3 = pd.read_csv(\"./Data/Tweets_by_Sentiment_DataFrame.csv\", sep=\",\") \n"
   ]
  },
  {
   "cell_type": "code",
   "execution_count": 30,
   "metadata": {
    "collapsed": true
   },
   "outputs": [
    {
     "data": {
      "text/html": [
       "<div>\n",
       "<style scoped>\n",
       "    .dataframe tbody tr th:only-of-type {\n",
       "        vertical-align: middle;\n",
       "    }\n",
       "\n",
       "    .dataframe tbody tr th {\n",
       "        vertical-align: top;\n",
       "    }\n",
       "\n",
       "    .dataframe thead th {\n",
       "        text-align: right;\n",
       "    }\n",
       "</style>\n",
       "<table border=\"1\" class=\"dataframe\">\n",
       "  <thead>\n",
       "    <tr style=\"text-align: right;\">\n",
       "      <th></th>\n",
       "      <th>id</th>\n",
       "      <th>sentiment</th>\n",
       "      <th>text</th>\n",
       "    </tr>\n",
       "  </thead>\n",
       "  <tbody>\n",
       "    <tr>\n",
       "      <th>0</th>\n",
       "      <td>434314703540846592</td>\n",
       "      <td>negative</td>\n",
       "      <td>@MetroNorth wall to wall people on the platfor...</td>\n",
       "    </tr>\n",
       "    <tr>\n",
       "      <th>1</th>\n",
       "      <td>437424096238792704</td>\n",
       "      <td>negative</td>\n",
       "      <td>RT @katie_rohaley: School on Monday is just go...</td>\n",
       "    </tr>\n",
       "    <tr>\n",
       "      <th>2</th>\n",
       "      <td>435670962327941120</td>\n",
       "      <td>negative</td>\n",
       "      <td>Who needs sleep? It's not like I have a test t...</td>\n",
       "    </tr>\n",
       "    <tr>\n",
       "      <th>3</th>\n",
       "      <td>436698945432326144</td>\n",
       "      <td>neutral</td>\n",
       "      <td>@rob_yost -Hashtags can express humor, excitem...</td>\n",
       "    </tr>\n",
       "    <tr>\n",
       "      <th>4</th>\n",
       "      <td>428714340964130816</td>\n",
       "      <td>positive</td>\n",
       "      <td>Grades come out tomorrow #soexcited\\n432245861...</td>\n",
       "    </tr>\n",
       "  </tbody>\n",
       "</table>\n",
       "</div>"
      ],
      "text/plain": [
       "                   id sentiment  \\\n",
       "0  434314703540846592  negative   \n",
       "1  437424096238792704  negative   \n",
       "2  435670962327941120  negative   \n",
       "3  436698945432326144   neutral   \n",
       "4  428714340964130816  positive   \n",
       "\n",
       "                                                text  \n",
       "0  @MetroNorth wall to wall people on the platfor...  \n",
       "1  RT @katie_rohaley: School on Monday is just go...  \n",
       "2  Who needs sleep? It's not like I have a test t...  \n",
       "3  @rob_yost -Hashtags can express humor, excitem...  \n",
       "4  Grades come out tomorrow #soexcited\\n432245861...  "
      ]
     },
     "execution_count": 30,
     "metadata": {},
     "output_type": "execute_result"
    }
   ],
   "source": [
    "df_3.head()\n",
    "#we don't need the id column."
   ]
  },
  {
   "cell_type": "markdown",
   "metadata": {},
   "source": [
    "#### Drop columns"
   ]
  },
  {
   "cell_type": "code",
   "execution_count": 31,
   "metadata": {},
   "outputs": [],
   "source": [
    "df_3 = df_3.drop(\"id\", axis=1)"
   ]
  },
  {
   "cell_type": "code",
   "execution_count": 32,
   "metadata": {
    "collapsed": true
   },
   "outputs": [
    {
     "data": {
      "text/html": [
       "<div>\n",
       "<style scoped>\n",
       "    .dataframe tbody tr th:only-of-type {\n",
       "        vertical-align: middle;\n",
       "    }\n",
       "\n",
       "    .dataframe tbody tr th {\n",
       "        vertical-align: top;\n",
       "    }\n",
       "\n",
       "    .dataframe thead th {\n",
       "        text-align: right;\n",
       "    }\n",
       "</style>\n",
       "<table border=\"1\" class=\"dataframe\">\n",
       "  <thead>\n",
       "    <tr style=\"text-align: right;\">\n",
       "      <th></th>\n",
       "      <th>sentiment</th>\n",
       "      <th>text</th>\n",
       "    </tr>\n",
       "  </thead>\n",
       "  <tbody>\n",
       "    <tr>\n",
       "      <th>0</th>\n",
       "      <td>negative</td>\n",
       "      <td>@MetroNorth wall to wall people on the platfor...</td>\n",
       "    </tr>\n",
       "    <tr>\n",
       "      <th>1</th>\n",
       "      <td>negative</td>\n",
       "      <td>RT @katie_rohaley: School on Monday is just go...</td>\n",
       "    </tr>\n",
       "    <tr>\n",
       "      <th>2</th>\n",
       "      <td>negative</td>\n",
       "      <td>Who needs sleep? It's not like I have a test t...</td>\n",
       "    </tr>\n",
       "    <tr>\n",
       "      <th>3</th>\n",
       "      <td>neutral</td>\n",
       "      <td>@rob_yost -Hashtags can express humor, excitem...</td>\n",
       "    </tr>\n",
       "    <tr>\n",
       "      <th>4</th>\n",
       "      <td>positive</td>\n",
       "      <td>Grades come out tomorrow #soexcited\\n432245861...</td>\n",
       "    </tr>\n",
       "  </tbody>\n",
       "</table>\n",
       "</div>"
      ],
      "text/plain": [
       "  sentiment                                               text\n",
       "0  negative  @MetroNorth wall to wall people on the platfor...\n",
       "1  negative  RT @katie_rohaley: School on Monday is just go...\n",
       "2  negative  Who needs sleep? It's not like I have a test t...\n",
       "3   neutral  @rob_yost -Hashtags can express humor, excitem...\n",
       "4  positive  Grades come out tomorrow #soexcited\\n432245861..."
      ]
     },
     "execution_count": 32,
     "metadata": {},
     "output_type": "execute_result"
    }
   ],
   "source": [
    "df_3.head()"
   ]
  },
  {
   "cell_type": "code",
   "execution_count": 33,
   "metadata": {},
   "outputs": [
    {
     "data": {
      "text/plain": [
       "neutral     22182\n",
       "positive    19572\n",
       "negative     7713\n",
       "Name: sentiment, dtype: int64"
      ]
     },
     "execution_count": 33,
     "metadata": {},
     "output_type": "execute_result"
    }
   ],
   "source": [
    "df_3[\"sentiment\"].value_counts() #Overview of values in one column. We have neutral, positive and negative sentiment.\n",
    "#Most of the Tweets are neutral."
   ]
  },
  {
   "cell_type": "markdown",
   "metadata": {},
   "source": [
    "# <3 Very nice"
   ]
  }
 ],
 "metadata": {
  "kernelspec": {
   "display_name": "Python 3",
   "language": "python",
   "name": "python3"
  },
  "language_info": {
   "codemirror_mode": {
    "name": "ipython",
    "version": 3
   },
   "file_extension": ".py",
   "mimetype": "text/x-python",
   "name": "python",
   "nbconvert_exporter": "python",
   "pygments_lexer": "ipython3",
   "version": "3.7.6"
  }
 },
 "nbformat": 4,
 "nbformat_minor": 2
}
