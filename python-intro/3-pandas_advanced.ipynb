{
 "cells": [
  {
   "cell_type": "markdown",
   "metadata": {},
   "source": [
    "# Workshop Text Classification with Python\n",
    "## Coding Session 0 - Data Management with Pandas\n",
    "\n",
    "Anke Stoll, Lara Kobilke, Ivo Bantel\n",
    "\n",
    "Last edit: 30.09.2020"
   ]
  },
  {
   "cell_type": "code",
   "execution_count": null,
   "metadata": {},
   "outputs": [],
   "source": [
    "import pandas as pd \n",
    "\n",
    "#This is THE python library for everything with data frames.\n",
    "#It can do almost everything and is very easy to handle :)"
   ]
  },
  {
   "cell_type": "markdown",
   "metadata": {},
   "source": [
    "### Read data from csv file"
   ]
  },
  {
   "cell_type": "code",
   "execution_count": null,
   "metadata": {},
   "outputs": [],
   "source": [
    "df = pd.read_csv(\"Songtexts_by_Genre_DataFrame.csv\", sep=\",\") #mThere are several more parameters.\n",
    "# Let's load the data frame with the songtexts as an example. "
   ]
  },
  {
   "cell_type": "code",
   "execution_count": null,
   "metadata": {},
   "outputs": [],
   "source": [
    "# If the file is not in the same folder as this Notebook and you get a FileNotFoundError, your directory might not \n",
    "# be set up correctly.\n",
    "# In this case, you should manually set the working directory to the file in which the csv is stored.\n",
    "# You will need to remove the #-sign in the next lines of code, put your own file path in the \"C:/path/to/your/location\", \n",
    "# and then run the following code:\n",
    "\n",
    "# import os\n",
    "# os.chdir(\"C:/path/to/your/location\")\n",
    "# df = pd.read_csv(\"Songtexts_by_Genre_DataFrame.csv\", sep=\",\")"
   ]
  },
  {
   "cell_type": "markdown",
   "metadata": {},
   "source": [
    "### Check that everything was imported correctly"
   ]
  },
  {
   "cell_type": "code",
   "execution_count": null,
   "metadata": {},
   "outputs": [],
   "source": [
    "df.head() # Gives you the head (5 rows in default) of the data frame.\n",
    "# Hint: The .head() method also takes an argument, e.g. .head(20)\n",
    "# We have the columns \"Title\", \"Artist\", \"Popularity\", \"Lyric\", \"Idiom\", \"Genre\"."
   ]
  },
  {
   "cell_type": "code",
   "execution_count": null,
   "metadata": {},
   "outputs": [],
   "source": [
    "df.columns\n",
    "# Print the name of the columns in a list"
   ]
  },
  {
   "cell_type": "markdown",
   "metadata": {},
   "source": [
    "### Inspect the data"
   ]
  },
  {
   "cell_type": "code",
   "execution_count": null,
   "metadata": {},
   "outputs": [],
   "source": [
    "len(df)\n",
    "# Number of rows/cases"
   ]
  },
  {
   "cell_type": "code",
   "execution_count": null,
   "metadata": {},
   "outputs": [],
   "source": [
    "len(df.columns)\n",
    "# Number of columns"
   ]
  },
  {
   "cell_type": "code",
   "execution_count": null,
   "metadata": {},
   "outputs": [],
   "source": [
    "df.shape\n",
    "# Number of rows/cases and columns in just one command!"
   ]
  },
  {
   "cell_type": "code",
   "execution_count": null,
   "metadata": {},
   "outputs": [],
   "source": [
    "df.shape[0]\n",
    "# Shortcut for rows/cases"
   ]
  },
  {
   "cell_type": "code",
   "execution_count": null,
   "metadata": {},
   "outputs": [],
   "source": [
    "df.shape[1]\n",
    "# Shortcut for columns"
   ]
  },
  {
   "cell_type": "code",
   "execution_count": null,
   "metadata": {},
   "outputs": [],
   "source": [
    "df.describe()\n",
    "# the describe() method provides statistics of central tendency and dispersion (not applicable to strings!)"
   ]
  },
  {
   "cell_type": "code",
   "execution_count": null,
   "metadata": {},
   "outputs": [],
   "source": [
    "df[\"Lyric\"]\n",
    "# This shows only the rows of the column \"Lyric\""
   ]
  },
  {
   "cell_type": "code",
   "execution_count": null,
   "metadata": {},
   "outputs": [],
   "source": [
    "df[\"Lyric\"][0] \n",
    "# Shows the content of 1 single cell in the column \"Lyric\", row 1 (=index nr. 0)."
   ]
  },
  {
   "cell_type": "code",
   "execution_count": null,
   "metadata": {},
   "outputs": [],
   "source": [
    "df[\"Genre\"].value_counts()\n",
    "# Overview of values in one column, e.g. in column \"Genre\"."
   ]
  },
  {
   "cell_type": "code",
   "execution_count": null,
   "metadata": {},
   "outputs": [],
   "source": [
    "df[\"Idiom\"].value_counts()\n",
    "# Overview of values in one column."
   ]
  },
  {
   "cell_type": "code",
   "execution_count": null,
   "metadata": {},
   "outputs": [],
   "source": [
    "df['Artist'].nunique() \n",
    "# Shows Nr of unique values in a column. E.g. in column \"Artist\"."
   ]
  },
  {
   "cell_type": "markdown",
   "metadata": {},
   "source": [
    "### Advanced data selection"
   ]
  },
  {
   "cell_type": "code",
   "execution_count": null,
   "metadata": {},
   "outputs": [],
   "source": [
    "df[\"Popularity\"].max() \n",
    "# Shows the highest popularity rating in the column \"Popularity\""
   ]
  },
  {
   "cell_type": "code",
   "execution_count": null,
   "metadata": {},
   "outputs": [],
   "source": [
    "df[\"Popularity\"].idxmax() \n",
    "# Index id  of the case / row with the highest popularity rating"
   ]
  },
  {
   "cell_type": "code",
   "execution_count": null,
   "metadata": {},
   "outputs": [],
   "source": [
    "df.iloc[215]\n",
    "# Use df.iloc to select rows by their ordinal index\n",
    "# Insert the idxmax to show the case / row with the highest popularity rating"
   ]
  },
  {
   "cell_type": "code",
   "execution_count": null,
   "metadata": {},
   "outputs": [],
   "source": [
    "df[\"Artist\"].iloc[215] \n",
    "# Insert the idxmax and select the artist column to only show the related artist of the case / row with the highest \n",
    "# popularity rating"
   ]
  },
  {
   "cell_type": "code",
   "execution_count": null,
   "metadata": {},
   "outputs": [],
   "source": [
    "df[\"Artist\"].iloc[df[\"Popularity\"].idxmax()]\n",
    "# This way of accessing the artist's name will always work even if the index changes"
   ]
  },
  {
   "cell_type": "code",
   "execution_count": null,
   "metadata": {},
   "outputs": [],
   "source": [
    "df[df.index == df[\"Popularity\"].idxmax()] \n",
    "# Select the entire row / case with the highest popularity rating"
   ]
  },
  {
   "cell_type": "code",
   "execution_count": null,
   "metadata": {},
   "outputs": [],
   "source": [
    "df[\"Artist\"][df['Idiom']== \"GERMAN\"] \n",
    "# Selects all artists of the cases / rows that contain a German song"
   ]
  },
  {
   "cell_type": "code",
   "execution_count": null,
   "metadata": {},
   "outputs": [],
   "source": [
    "df[\"Artist\"][df['Idiom']== \"GERMAN\"].unique()\n",
    "# Lists the name of artists who have released at least one German song"
   ]
  },
  {
   "cell_type": "code",
   "execution_count": null,
   "metadata": {},
   "outputs": [],
   "source": [
    "df[\"Artist\"][df['Idiom']== \"GERMAN\"].nunique()\n",
    "# Number of artists who have released at least one German song"
   ]
  },
  {
   "cell_type": "markdown",
   "metadata": {},
   "source": [
    "### Drop cases with missing values"
   ]
  },
  {
   "cell_type": "code",
   "execution_count": null,
   "metadata": {},
   "outputs": [],
   "source": [
    "df.isnull().sum()\n",
    "# Shows the count of missings in each column"
   ]
  },
  {
   "cell_type": "code",
   "execution_count": null,
   "metadata": {},
   "outputs": [],
   "source": [
    "df.dropna(inplace=True,subset=None)\n",
    "#Instead of None you can specify by column(s). \n",
    "#E.g. subset=\"Genre\", which drops cases with NAN in column \"Genre\"."
   ]
  },
  {
   "cell_type": "code",
   "execution_count": null,
   "metadata": {},
   "outputs": [],
   "source": [
    "len(df)"
   ]
  },
  {
   "cell_type": "markdown",
   "metadata": {},
   "source": [
    "### Sort by column values"
   ]
  },
  {
   "cell_type": "code",
   "execution_count": null,
   "metadata": {},
   "outputs": [],
   "source": [
    "df.sort_values('Title', \n",
    "               inplace=True) #Inplace saves your changes in the df."
   ]
  },
  {
   "cell_type": "code",
   "execution_count": null,
   "metadata": {},
   "outputs": [],
   "source": [
    "df.head(20)\n",
    "# Shows the first 20 rows of the (sorted) df."
   ]
  },
  {
   "cell_type": "markdown",
   "metadata": {},
   "source": [
    "### Save as csv file"
   ]
  },
  {
   "cell_type": "code",
   "execution_count": null,
   "metadata": {},
   "outputs": [],
   "source": [
    "df.to_csv(\"Songtexts_by_Genre_DataFrame_edit.csv\",\n",
    "              index=False)"
   ]
  },
  {
   "cell_type": "markdown",
   "metadata": {},
   "source": [
    "## A Coding Exercise"
   ]
  },
  {
   "cell_type": "markdown",
   "metadata": {},
   "source": [
    "__1. Open the second data set__ `Tweets_by_Sentiment_DataFrame` __as__ `df2`."
   ]
  },
  {
   "cell_type": "code",
   "execution_count": null,
   "metadata": {},
   "outputs": [],
   "source": [
    "# Write your code below and press Shift or Cmd + Enter to execute."
   ]
  },
  {
   "cell_type": "markdown",
   "metadata": {},
   "source": [
    "<i>Double-click <b>here</b> for the solution.</i>\n",
    "\n",
    "<!-- The answer is:\n",
    "df2 = pd.read_csv(\"Tweets_by_Sentiment_DataFrame.csv\", sep = ',')\n",
    "-->\n"
   ]
  },
  {
   "cell_type": "markdown",
   "metadata": {},
   "source": [
    "Please execute this cell to add another column of languages. This has no substantive meanings but is meant to make the exercises more interesting and worthwile."
   ]
  },
  {
   "cell_type": "code",
   "execution_count": null,
   "metadata": {},
   "outputs": [],
   "source": [
    "df2['language'] = [['english (UK)', 'english (US)', 'German', 'French', 'Italian'] * (len(df2))][0][:len(df2)]"
   ]
  },
  {
   "cell_type": "markdown",
   "metadata": {},
   "source": [
    "__2. Check out the first 10 entries of the data set.__"
   ]
  },
  {
   "cell_type": "code",
   "execution_count": null,
   "metadata": {},
   "outputs": [],
   "source": [
    "# Write your code below and press Shift or Cmd + Enter to execute."
   ]
  },
  {
   "cell_type": "markdown",
   "metadata": {},
   "source": [
    "<i>Double-click <b>here</b> for the solution.</i>\n",
    "\n",
    "<!-- The answer is:\n",
    "df2.head(10)\n",
    "-->"
   ]
  },
  {
   "cell_type": "markdown",
   "metadata": {},
   "source": [
    "__3. How many cases / rows and how many columns does the data set have?__"
   ]
  },
  {
   "cell_type": "code",
   "execution_count": null,
   "metadata": {},
   "outputs": [],
   "source": [
    "# Write your code below and press Shift or Cmd + Enter to execute."
   ]
  },
  {
   "cell_type": "markdown",
   "metadata": {},
   "source": [
    "<i>Double-click <b>here</b> for the solution.</i>\n",
    "\n",
    "<!-- The answer is:\n",
    "print(f\"The dataset contains {df2.shape[0]} rows and {df2.shape[1]} columns\")\n",
    "-->"
   ]
  },
  {
   "cell_type": "markdown",
   "metadata": {},
   "source": [
    "__4. Can you get the first 10 rows of the column containing the tweet texts (`text`)?__"
   ]
  },
  {
   "cell_type": "code",
   "execution_count": null,
   "metadata": {},
   "outputs": [],
   "source": [
    "# Write your code below and press Shift or Cmd + Enter to execute."
   ]
  },
  {
   "cell_type": "markdown",
   "metadata": {},
   "source": [
    "<i>Double-click <b>here</b> for the solution.</i>\n",
    "\n",
    "<!-- The answer is:\n",
    "df2['text'].head(10) # Many commands in pandas syntax can be chained - like the column selection and .head() here\n",
    "-->"
   ]
  },
  {
   "cell_type": "markdown",
   "metadata": {},
   "source": [
    "__5. Can you select all rows where the sentiment is positive or negative?__"
   ]
  },
  {
   "cell_type": "code",
   "execution_count": null,
   "metadata": {},
   "outputs": [],
   "source": [
    "# Write your code below and press Shift or Cmd + Enter to execute."
   ]
  },
  {
   "cell_type": "markdown",
   "metadata": {},
   "source": [
    "<i>Double-click <b>here</b> for the solution.</i>\n",
    "\n",
    "<!-- The answer is:\n",
    "df2[df2['sentiment'] != 'neutral']\n",
    "-->"
   ]
  },
  {
   "cell_type": "markdown",
   "metadata": {},
   "source": [
    "__6. How many positive and how many negative tweets (rows) does the data set contain?__"
   ]
  },
  {
   "cell_type": "markdown",
   "metadata": {},
   "source": [
    "<i>Double-click <b>here</b> for the solution.</i>\n",
    "\n",
    "<!-- The answer is:\n",
    "df2['sentiment'].value_counts()\n",
    "-->"
   ]
  },
  {
   "cell_type": "markdown",
   "metadata": {},
   "source": [
    "__7. Select the__ `text` __column of all positive tweets in German.__"
   ]
  },
  {
   "cell_type": "code",
   "execution_count": null,
   "metadata": {},
   "outputs": [],
   "source": [
    "# Write your code below and press Shift or Cmd + Enter to execute."
   ]
  },
  {
   "cell_type": "markdown",
   "metadata": {},
   "source": [
    "<i>Double-click <b>here</b> for the solution.</i>\n",
    "\n",
    "<!-- The answer is:\n",
    "df2['text'][(df2['language'] == 'German') & (df2['sentiment'] == 'positive')]\n",
    "-->"
   ]
  },
  {
   "cell_type": "markdown",
   "metadata": {},
   "source": [
    "__8. Check if there are any missing values the in column__ `text`."
   ]
  },
  {
   "cell_type": "code",
   "execution_count": null,
   "metadata": {},
   "outputs": [],
   "source": [
    "# Write your code below and press Shift or Cmd + Enter to execute."
   ]
  },
  {
   "cell_type": "markdown",
   "metadata": {},
   "source": [
    "<i>Double-click <b>here</b> for the solution.</i>\n",
    "\n",
    "<!-- The answer is:\n",
    "df2['text'].isnull().sum() # again, you can easily chain commands intuitively\n",
    "-->"
   ]
  },
  {
   "cell_type": "markdown",
   "metadata": {},
   "source": [
    "__9. Select the text of the tweet with the highest numeric id (select column__ `text` __for the row with the maximum value in the column__ `id`__)__."
   ]
  },
  {
   "cell_type": "code",
   "execution_count": null,
   "metadata": {},
   "outputs": [],
   "source": [
    "# Write your code below and press Shift or Cmd + Enter to execute."
   ]
  },
  {
   "cell_type": "markdown",
   "metadata": {},
   "source": [
    "<i>Double-click <b>here</b> for the solution.</i>\n",
    "\n",
    "<!-- The answer is:\n",
    "df2[\"text\"].iloc[df2['id'].idxmax()] # passes the id of the row (with the maximum value for `id`) as selector to .iloc\n",
    "-->"
   ]
  },
  {
   "cell_type": "markdown",
   "metadata": {},
   "source": [
    "__10. Check if there are duplicates in (a) the column__ `id` __and (b) in the column__ `text`__.__"
   ]
  },
  {
   "cell_type": "code",
   "execution_count": null,
   "metadata": {},
   "outputs": [],
   "source": [
    "# Write your code below and press Shift or Cmd + Enter to execute."
   ]
  },
  {
   "cell_type": "markdown",
   "metadata": {},
   "source": [
    "<i>Double-click <b>here</b> for the solution.</i>\n",
    "\n",
    "<!-- The answer is:\n",
    "# (a)\n",
    "print(f'The column \"text\" contains {df2.shape[0] - df2[\"text\"].nunique()} duplicates.')\n",
    "# (b)\n",
    "print(f'The column  \"id\"  contains  {df2.shape[0] - df2[\"id\"].nunique()} duplicates.')\n",
    "-->"
   ]
  },
  {
   "cell_type": "markdown",
   "metadata": {},
   "source": [
    "# <3 Very nice :)"
   ]
  }
 ],
 "metadata": {
  "kernelspec": {
   "display_name": "Python 3",
   "language": "python",
   "name": "python3"
  },
  "language_info": {
   "codemirror_mode": {
    "name": "ipython",
    "version": 3
   },
   "file_extension": ".py",
   "mimetype": "text/x-python",
   "name": "python",
   "nbconvert_exporter": "python",
   "pygments_lexer": "ipython3",
   "version": "3.7.6"
  }
 },
 "nbformat": 4,
 "nbformat_minor": 2
}
