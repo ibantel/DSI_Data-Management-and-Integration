{
 "cells": [
  {
   "cell_type": "markdown",
   "metadata": {},
   "source": [
    "# Workshop Text Classification with Python\n",
    "\n",
    "## Python Basics\n",
    "\n",
    "Lara Kobilke\n",
    "\n",
    "Last edit: 29.09.2020"
   ]
  },
  {
   "cell_type": "markdown",
   "metadata": {},
   "source": [
    "# Python Core Language"
   ]
  },
  {
   "cell_type": "markdown",
   "metadata": {},
   "source": [
    "This part teaches you the main variable types in Python. Afterwards you will be able to perform basic mathematical operations. The `x` stands for the input. Sometimes methods have `()` without `x` inside indicating that no input is needed. "
   ]
  },
  {
   "cell_type": "markdown",
   "metadata": {},
   "source": [
    "| Variable Type | Method | Example |\n",
    "|---------------|--------|---------|\n",
    "|Integers (whole numbers)| int(x) | -1 , 3 , 3229732  |\n",
    "|Floating point numbers\t | float(x)\t| 1.424 , 1.34e-4 =1.34*10-4 | \n",
    "|Logical (Boolean) values|bool(x)   |True or 1, False or 0|\n",
    "|String\t| str(“x”)|“letters and symbols!”|"
   ]
  },
  {
   "cell_type": "markdown",
   "metadata": {},
   "source": [
    "Unlike some other programming languages, Python does not require you to specify the data type when defining a variable. However, you can do this with the definition command. You can check the type of a variable with the `type()` command.\n",
    "\n",
    "_Hint:_ On Windows, you can run lines by clicking on them and hitting `Cmd (German: Strg) + Enter`. On a Mac, use the `Apple Key + Enter`."
   ]
  },
  {
   "cell_type": "code",
   "execution_count": null,
   "metadata": {},
   "outputs": [],
   "source": [
    "x = -1\n",
    "x"
   ]
  },
  {
   "cell_type": "code",
   "execution_count": null,
   "metadata": {},
   "outputs": [],
   "source": [
    "type(x)"
   ]
  },
  {
   "cell_type": "code",
   "execution_count": null,
   "metadata": {},
   "outputs": [],
   "source": [
    "x = 1.424\n",
    "x"
   ]
  },
  {
   "cell_type": "code",
   "execution_count": null,
   "metadata": {},
   "outputs": [],
   "source": [
    "type(x)"
   ]
  },
  {
   "cell_type": "code",
   "execution_count": null,
   "metadata": {},
   "outputs": [],
   "source": [
    "x = True\n",
    "x"
   ]
  },
  {
   "cell_type": "code",
   "execution_count": null,
   "metadata": {},
   "outputs": [],
   "source": [
    "type(x)"
   ]
  },
  {
   "cell_type": "code",
   "execution_count": null,
   "metadata": {},
   "outputs": [],
   "source": [
    "x = bool(0)\n",
    "x"
   ]
  },
  {
   "cell_type": "code",
   "execution_count": null,
   "metadata": {},
   "outputs": [],
   "source": [
    "x = 'True' # Notice: You must use '' or \"\" to create a string and not a bool!\n",
    "x"
   ]
  },
  {
   "cell_type": "code",
   "execution_count": null,
   "metadata": {},
   "outputs": [],
   "source": [
    "type(x)"
   ]
  },
  {
   "cell_type": "markdown",
   "metadata": {},
   "source": [
    "### Mathematical Operators"
   ]
  },
  {
   "cell_type": "markdown",
   "metadata": {},
   "source": [
    "|Operator\t| Python Symbol |\tExample |\n",
    "|-----------|---------------|-----------|\n",
    "|Addition|\t+\t|Input: 5+2<br>Output: 7|\n",
    "|Subtraction|\t-\t|5-2<br>3|\n",
    "|Multiplication\t|*\t|5*2<br>10|\n",
    "|Float Division\t|/\t|5/2<br>2.5|\n",
    "|Integer Division\t|// |5//2<br>2|\n",
    "|Exponentiate\t|** |\t5**2<br>25|\n",
    "|Modulo\t|%|\t5%2<br>1|\n"
   ]
  },
  {
   "cell_type": "markdown",
   "metadata": {},
   "source": [
    "__Example:__"
   ]
  },
  {
   "cell_type": "code",
   "execution_count": null,
   "metadata": {},
   "outputs": [],
   "source": [
    "a = 23\n",
    "b = 4\n",
    "c = a + b"
   ]
  },
  {
   "cell_type": "code",
   "execution_count": null,
   "metadata": {},
   "outputs": [],
   "source": [
    "c"
   ]
  },
  {
   "cell_type": "code",
   "execution_count": null,
   "metadata": {},
   "outputs": [],
   "source": [
    "type(a)"
   ]
  },
  {
   "cell_type": "code",
   "execution_count": null,
   "metadata": {},
   "outputs": [],
   "source": [
    "type(b)"
   ]
  },
  {
   "cell_type": "code",
   "execution_count": null,
   "metadata": {},
   "outputs": [],
   "source": [
    "type(c)"
   ]
  },
  {
   "cell_type": "markdown",
   "metadata": {},
   "source": [
    "### Assigning Variables in Python"
   ]
  },
  {
   "cell_type": "markdown",
   "metadata": {},
   "source": [
    "Python allows you to reassign a variable with itself:  "
   ]
  },
  {
   "cell_type": "code",
   "execution_count": null,
   "metadata": {},
   "outputs": [],
   "source": [
    "b = b + 4\n",
    "print(b)"
   ]
  },
  {
   "cell_type": "code",
   "execution_count": null,
   "metadata": {},
   "outputs": [],
   "source": [
    "b += 2\n",
    "print(b)"
   ]
  },
  {
   "cell_type": "markdown",
   "metadata": {},
   "source": [
    "Variable names are case sensitive and can contain any ASCII letter, the underscore (_) or any number. Numbers cannot be put at the beginning and operators cannot be part of the variable name. Furthermore, some words are reserved keywords for python and cannot be variable names as well:"
   ]
  },
  {
   "attachments": {
    "grafik.png": {
     "image/png": "[encoded data removed]"
    }
   },
   "cell_type": "markdown",
   "metadata": {},
   "source": [
    "![grafik.png](attachment:grafik.png)"
   ]
  },
  {
   "cell_type": "markdown",
   "metadata": {},
   "source": [
    "### Comparison and Logical Operators"
   ]
  },
  {
   "cell_type": "markdown",
   "metadata": {},
   "source": [
    "|Operator|\tPython Symbol|\tExample|\n",
    "|--|--|--|\n",
    "|Equal to |\t==\t|Input: 5 == 3 <br> Output: False<br><br> Input: “abc” == “abc” <br> Output: True|\n",
    "|Not equal to\t|!=\t|5 != 3<br>True|\n",
    "|Greater than|\t>\t|5 > 3<br>True|\n",
    "|Less than|\t<\t|5 < 3 <br>False|\n",
    "|Greater than or equal to|\t>=\t|5 >= 3 <br>True|\n",
    "|Lesser than or equal to|\t<=\t|5 <= 3 <br>False|\n",
    "|And operator\t|and|\t5 > 3 and -1 < 0<br>True|\n",
    "|Or operator|\tor\t|5 > 3 or -1 > 0<br>False|\n",
    "|Not operator|\tnot|\tnot (5 < 6 or 5 == 5)<br>False|\n"
   ]
  },
  {
   "cell_type": "markdown",
   "metadata": {},
   "source": [
    "## Lists and Dictionaries"
   ]
  },
  {
   "cell_type": "markdown",
   "metadata": {},
   "source": [
    "Python has four types of Collections with unique features:\n",
    "  * `List`: a collection of data entries which is ordered and changeable. Lists allow duplicate members.\n",
    "  * `Tuple`: a collection of data entries which is ordered and unchangeable. Tuples allow duplicate members.\n",
    "  * `Set`: a collection of data entries which is unordered and unindexed. Sets do not allow duplicate members.\n",
    "  * `Dictionary`: a collection of data which is unordered, changeable and indexed. Dictionaries allow no duplicate members.\n",
    "  \n",
    "In this tutorial, you will learn how to work with `lists` and `dictionaries`."
   ]
  },
  {
   "cell_type": "markdown",
   "metadata": {},
   "source": [
    "__Lists:__\n",
    "\n",
    "In Python lists are written with square brackets `[]`."
   ]
  },
  {
   "cell_type": "code",
   "execution_count": null,
   "metadata": {},
   "outputs": [],
   "source": [
    "a = list([1,2,3,4,5]) # You can create lists using the list() function\n",
    "a"
   ]
  },
  {
   "cell_type": "code",
   "execution_count": null,
   "metadata": {},
   "outputs": [],
   "source": [
    "a = [1,2,3,4,5] # Alternatively, you can just use []\n",
    "a"
   ]
  },
  {
   "cell_type": "code",
   "execution_count": null,
   "metadata": {},
   "outputs": [],
   "source": [
    "a[2] = 10 # You can change list entries by referring to their index, starting at 0\n",
    "a"
   ]
  },
  {
   "cell_type": "markdown",
   "metadata": {},
   "source": [
    "__Dictionaries:__\n",
    "\n",
    "In Python dictionaries are written with curly brackets `{}`, and they have keys and values."
   ]
  },
  {
   "cell_type": "code",
   "execution_count": null,
   "metadata": {},
   "outputs": [],
   "source": [
    "population_dict = {'Zurich': 402.762,\n",
    "                   'Bern': 1035.000,\n",
    "                   'Luzern': 81.592,\n",
    "                   'Geneva': 499.480,\n",
    "                   'Basel': 171.017}\n",
    "population_dict"
   ]
  },
  {
   "cell_type": "code",
   "execution_count": null,
   "metadata": {},
   "outputs": [],
   "source": [
    "population_dict['Zurich'] # You can access the items of a dictionary by referring to its key name, inside square brackets."
   ]
  },
  {
   "cell_type": "code",
   "execution_count": null,
   "metadata": {},
   "outputs": [],
   "source": [
    "population_dict['Zurich'] = 2000.000  # You can change dict entries by referring to their key name\n",
    "population_dict"
   ]
  },
  {
   "cell_type": "markdown",
   "metadata": {},
   "source": [
    "## Memory Management "
   ]
  },
  {
   "cell_type": "markdown",
   "metadata": {},
   "source": [
    "When an object is created, like `x = 3`, it is assigned a specific location in the memory of a PC. The location is called identity and can be accessed with the function `id()`. Python distinguishes between immutable and mutable objects."
   ]
  },
  {
   "cell_type": "code",
   "execution_count": null,
   "metadata": {},
   "outputs": [],
   "source": [
    "a = 3\n",
    "id(a)"
   ]
  },
  {
   "cell_type": "code",
   "execution_count": null,
   "metadata": {},
   "outputs": [],
   "source": [
    "a = a +4 \n",
    "id(a)"
   ]
  },
  {
   "cell_type": "markdown",
   "metadata": {},
   "source": [
    "While both times `a` was used as variable, the id in the memory is different. That means that `a` is an immutable object because it is not overwritten but assigned to another memory location."
   ]
  },
  {
   "cell_type": "code",
   "execution_count": null,
   "metadata": {},
   "outputs": [],
   "source": [
    "a = list([1,2,3,4,5])\n",
    "a"
   ]
  },
  {
   "cell_type": "code",
   "execution_count": null,
   "metadata": {},
   "outputs": [],
   "source": [
    "id(a)"
   ]
  },
  {
   "cell_type": "code",
   "execution_count": null,
   "metadata": {},
   "outputs": [],
   "source": [
    "a[2] = 10\n",
    "a"
   ]
  },
  {
   "cell_type": "code",
   "execution_count": null,
   "metadata": {},
   "outputs": [],
   "source": [
    "id(a)"
   ]
  },
  {
   "cell_type": "markdown",
   "metadata": {},
   "source": [
    "As you can see, lists are matuable objects. Their `id` will not change.\n",
    "\n",
    "This is also true for dictionaries. Their `id` will not change as well:"
   ]
  },
  {
   "cell_type": "code",
   "execution_count": null,
   "metadata": {},
   "outputs": [],
   "source": [
    "a = {1: 'Anna', 2: 'Basti', 3: 'Carmen'}\n",
    "print(a)\n",
    "print(id(a))\n",
    "a[3] = 'Carsten'\n",
    "print(a)\n",
    "print(id(a))"
   ]
  },
  {
   "cell_type": "markdown",
   "metadata": {},
   "source": [
    "You can always reclaim memory by deleting variables:"
   ]
  },
  {
   "cell_type": "code",
   "execution_count": null,
   "metadata": {},
   "outputs": [],
   "source": [
    "del a\n",
    "a"
   ]
  },
  {
   "cell_type": "markdown",
   "metadata": {},
   "source": [
    "If you are really in need, you can also free memory by importing the `gc` (\"garbage collector\") package:"
   ]
  },
  {
   "cell_type": "code",
   "execution_count": null,
   "metadata": {},
   "outputs": [],
   "source": [
    "import gc # You can write the import command at the top of your code. You won't need to call it again.\n",
    "gc.collect()"
   ]
  },
  {
   "cell_type": "markdown",
   "metadata": {},
   "source": [
    "## Working with String Objects"
   ]
  },
  {
   "cell_type": "markdown",
   "metadata": {},
   "source": [
    "### String Operations"
   ]
  },
  {
   "cell_type": "markdown",
   "metadata": {},
   "source": [
    "A Python `String Object` is an ordered, immutable sequence of characters. Strings are enclosed by single or double quotes:"
   ]
  },
  {
   "cell_type": "code",
   "execution_count": null,
   "metadata": {},
   "outputs": [],
   "source": [
    "var1 = \"This is a string\"\n",
    "var2 = 'and this is also one'"
   ]
  },
  {
   "cell_type": "markdown",
   "metadata": {},
   "source": [
    "Strings can be concatenated using the + operator:"
   ]
  },
  {
   "cell_type": "code",
   "execution_count": null,
   "metadata": {},
   "outputs": [],
   "source": [
    "var3 = var1 + var2\n",
    "print(var3)"
   ]
  },
  {
   "cell_type": "markdown",
   "metadata": {},
   "source": [
    "The strings are just added together without space. It is possible to add space by concatenating “ “: "
   ]
  },
  {
   "cell_type": "code",
   "execution_count": null,
   "metadata": {},
   "outputs": [],
   "source": [
    "var4 = var1 + \" \" + var2\n",
    "print(var4)"
   ]
  },
  {
   "cell_type": "markdown",
   "metadata": {},
   "source": [
    "Strings can be repeated n times using the * operator:"
   ]
  },
  {
   "cell_type": "code",
   "execution_count": null,
   "metadata": {},
   "outputs": [],
   "source": [
    "my_abc = 'abc'\n",
    "my_abc*3"
   ]
  },
  {
   "cell_type": "markdown",
   "metadata": {},
   "source": [
    "Some symbols in strings are special operators called escape sequences. They are initiated by `\\`. For example: `\\n` creates a new line and `\\t` enters a tabulator space:"
   ]
  },
  {
   "cell_type": "code",
   "execution_count": null,
   "metadata": {},
   "outputs": [],
   "source": [
    "var5 = 'this text\\nhas two lines'\n",
    "print(var5)"
   ]
  },
  {
   "cell_type": "markdown",
   "metadata": {},
   "source": [
    "Mind that there is no space before and after the `\\n`."
   ]
  },
  {
   "cell_type": "markdown",
   "metadata": {},
   "source": [
    "### Common String Methods"
   ]
  },
  {
   "cell_type": "markdown",
   "metadata": {},
   "source": [
    "Here is a list of common methods you can use to modify strings. `x` represents a string object, like `x = “test”`. String methods do not replace the original string. "
   ]
  },
  {
   "cell_type": "markdown",
   "metadata": {},
   "source": [
    "|Description\t|Method|\tExample|\n",
    "|-|-|-|\n",
    "|Length of a string|\tlen(x) \t|Input: len(“test 1”)<br> Output: 6|\n",
    "|Remove leading and tailing whitespaces|\tx.strip()|\t“ test “.strip()<br>“test”|\n",
    "|Return copy of string with all characters in uppercase\t|x.upper()|\t‘test’.upper()<br>‘TEST’|\n",
    "|Return copy of string with all characters in lowercase|\tx.lower()\t|‘TeSt’.lower()<br>‘test’|\n",
    "|Return list of substrings from original string which are separated by the string separator|\tx.split(separator)|\tSee example below|\n",
    "|Return copy of string with substring **old** replaced by **new**|\tx.replace(old, new)|\t“SpS”.replace(“S”, “p”)<br>“ppp”|\n",
    "|in as a logical operator for strings to find a series of characters in a string\t|“abc” in x\t|“abc” in “1abcd”<br>True|\n"
   ]
  },
  {
   "cell_type": "code",
   "execution_count": null,
   "metadata": {},
   "outputs": [],
   "source": [
    "\"Ein grosser Baum\".split(\" \")"
   ]
  },
  {
   "cell_type": "markdown",
   "metadata": {},
   "source": [
    "More methods for strings can be found here: https://www.w3schools.com/python/python_ref_string.asp"
   ]
  },
  {
   "cell_type": "markdown",
   "metadata": {},
   "source": [
    "### Indexing and Slicing"
   ]
  },
  {
   "cell_type": "markdown",
   "metadata": {},
   "source": [
    "A string consists of n characters and is indexed from 0 to n-1:"
   ]
  },
  {
   "cell_type": "markdown",
   "metadata": {},
   "source": [
    "|Index|0|1|2|3|\n",
    "|-|-|-|-|-|\n",
    "|String|I|K|M|Z|\n",
    "|Position|1|2|3|4|\n",
    "|Reverse index|\t-4|\t-3|\t-2|\t-1|"
   ]
  },
  {
   "cell_type": "markdown",
   "metadata": {},
   "source": [
    "You can return a character in a string by referring to its index and using [ ]:"
   ]
  },
  {
   "cell_type": "code",
   "execution_count": null,
   "metadata": {},
   "outputs": [],
   "source": [
    "a = 'IKMZ'\n",
    "print(len(a))\n",
    "print(a[0])\n",
    "print(a[len(a)-1])\n",
    "print(a[-1])"
   ]
  },
  {
   "cell_type": "markdown",
   "metadata": {},
   "source": [
    "The method len() gives you the total length of the string with the first character being 1. Therefore, “IKMZ” has a length of 4. To refer to the first character, “I”,  in that string you have to refer to its index: 0. For referring to the last character of a string, the len() method can be used. But because len() starts counting from 1, the result of len() needs to be decreased by one to access the index of the last character. Another way to refer to the last character in a string is to use the reverse index."
   ]
  },
  {
   "cell_type": "markdown",
   "metadata": {},
   "source": [
    "Slicing produces a substring of a given string between the characters of two indices, including index 𝒊 and excluding index 𝒋: a[i:j]. So when a = IKMZ, then:"
   ]
  },
  {
   "cell_type": "code",
   "execution_count": null,
   "metadata": {},
   "outputs": [],
   "source": [
    "a[1:3]"
   ]
  },
  {
   "cell_type": "code",
   "execution_count": null,
   "metadata": {},
   "outputs": [],
   "source": [
    "a[:2]"
   ]
  },
  {
   "cell_type": "code",
   "execution_count": null,
   "metadata": {},
   "outputs": [],
   "source": [
    "a[1:]"
   ]
  },
  {
   "cell_type": "markdown",
   "metadata": {},
   "source": [
    "With omitting the i or j index, you can in include all characters before or after the given index.\n",
    "\n"
   ]
  },
  {
   "cell_type": "markdown",
   "metadata": {},
   "source": [
    "\n",
    "\n",
    "\n",
    "\n",
    "# Using Pandas\n",
    "\n",
    "This part teaches you to use the Pandas package in Python. Afterwards you will be able to load data from `csv-files`, to set your working directory and to perform aggregated data analysis. The Pandas package behaves very similar to R, e.g. it allows to work with data frames, to attach labels to data, to work with missing data, etc."
   ]
  },
  {
   "cell_type": "markdown",
   "metadata": {},
   "source": [
    "## Load Pandas Package"
   ]
  },
  {
   "cell_type": "markdown",
   "metadata": {},
   "source": [
    "_Remember:_ You should always load the package first, otherwise the code will provoke an error message. You can write the `import` command in the first line of your code because you don't need to run it a second time."
   ]
  },
  {
   "cell_type": "code",
   "execution_count": null,
   "metadata": {},
   "outputs": [],
   "source": [
    "import pandas as pd"
   ]
  },
  {
   "cell_type": "markdown",
   "metadata": {},
   "source": [
    "## Introduction to `Pandas Objects`\n",
    "\n",
    "Pandas offers two object types:\n",
    "* `Series` object: A one-dimensional array of indexed data\n",
    "* `DataFrame` object: A two-dimensional array with both flexible row indices and flexible column names\n",
    "\n",
    "These objects behave similar to dataframes in R: The rows and columns are identified with labels rather than simple integer indices.\n",
    "\n"
   ]
  },
  {
   "cell_type": "markdown",
   "metadata": {},
   "source": [
    "## The Pandas `Series` Object\n",
    "\n",
    "A Pandas `Series` object is a one-dimensional array of indexed data. By deafult a `Series` object is indexed with integer indices."
   ]
  },
  {
   "cell_type": "code",
   "execution_count": null,
   "metadata": {},
   "outputs": [],
   "source": [
    "data1 = pd.Series([50,100,200])\n",
    "data1"
   ]
  },
  {
   "cell_type": "markdown",
   "metadata": {},
   "source": [
    "But you can also _explicitly_ define an index for a `Series` object:"
   ]
  },
  {
   "cell_type": "code",
   "execution_count": null,
   "metadata": {},
   "outputs": [],
   "source": [
    "data2 = pd.Series([50,100,200], index=[\"a\",\"b\",\"c\"])\n",
    "data2"
   ]
  },
  {
   "cell_type": "markdown",
   "metadata": {},
   "source": [
    "You can access the index labels by using the `index` attribute:"
   ]
  },
  {
   "cell_type": "code",
   "execution_count": null,
   "metadata": {},
   "outputs": [],
   "source": [
    "data2ind = data2.index\n",
    "data2ind"
   ]
  },
  {
   "cell_type": "markdown",
   "metadata": {},
   "source": [
    "You can also create a `Series` object directly from a Python dictionary:"
   ]
  },
  {
   "cell_type": "code",
   "execution_count": null,
   "metadata": {},
   "outputs": [],
   "source": [
    "data_dict = pd.Series({\"c\":123,\"a\":30,\"b\":100})\n",
    "data_dict"
   ]
  },
  {
   "cell_type": "markdown",
   "metadata": {},
   "source": [
    "Notice: The index for the `Series` is created from the sorted keys!"
   ]
  },
  {
   "cell_type": "markdown",
   "metadata": {},
   "source": [
    "## The Pandas `DataFrame` Object\n",
    "\n",
    "A `DataFrame` object is a two-dimensional array with flexible row indices and flexible column names.\n",
    " * Both the rows and columns have a generalized index for accessing the data.\n",
    " * The row indices can be accessed by using the `index` attribute.\n",
    " * The column indices can be accessed by using the `columns` attribute.\n",
    " \n",
    "\n",
    "### Constructing `DataFrame` Objects\n",
    "\n",
    "You can think of a `DataFrame` as a sequence of aligned `Series` objects, meaning that each column of a `DataFrame` is a `Series`."
   ]
  },
  {
   "cell_type": "markdown",
   "metadata": {},
   "source": [
    "__Introductory Example:__\n",
    "\n",
    "You should first create two dictionaries from which you draw two `Series` Objects:"
   ]
  },
  {
   "cell_type": "code",
   "execution_count": null,
   "metadata": {},
   "outputs": [],
   "source": [
    "population_dict = {'Zurich': 402.762,\n",
    "                   'Bern': 1035.000,\n",
    "                   'Luzern': 81.592,\n",
    "                   'Geneva': 499.480,\n",
    "                   'Basel': 171.017}\n",
    "population_series = pd.Series(population_dict)\n",
    "\n",
    "area_dict = {'Zurich': 87.88, 'Bern': 51.62, 'Luzern': 29.11, 'Geneva': 15.92, 'Basel': 23.85}\n",
    "area_series = pd.Series(area_dict)"
   ]
  },
  {
   "cell_type": "markdown",
   "metadata": {},
   "source": [
    "Now you can look at the two `Series` Objects and their values:"
   ]
  },
  {
   "cell_type": "code",
   "execution_count": null,
   "metadata": {},
   "outputs": [],
   "source": [
    "population_series"
   ]
  },
  {
   "cell_type": "code",
   "execution_count": null,
   "metadata": {},
   "outputs": [],
   "source": [
    "area_series"
   ]
  },
  {
   "cell_type": "markdown",
   "metadata": {},
   "source": [
    "Finally, you can create a `DataFrame` Object from these two `Series` Objects:"
   ]
  },
  {
   "cell_type": "code",
   "execution_count": null,
   "metadata": {},
   "outputs": [],
   "source": [
    "swiss_states = pd.DataFrame({'population': population_series,'area': area_series})\n",
    "swiss_states"
   ]
  },
  {
   "cell_type": "markdown",
   "metadata": {},
   "source": [
    "This final product is your `DataFrame` with labeled rows and columns!\n",
    "\n",
    "You can now look at the labels of rows and columns seperately:"
   ]
  },
  {
   "cell_type": "code",
   "execution_count": null,
   "metadata": {},
   "outputs": [],
   "source": [
    "swiss_states.index"
   ]
  },
  {
   "cell_type": "code",
   "execution_count": null,
   "metadata": {},
   "outputs": [],
   "source": [
    "swiss_states.columns"
   ]
  },
  {
   "cell_type": "markdown",
   "metadata": {},
   "source": [
    "_Notice:_ There are multiple ways to construct a `DataFrame` object.\n",
    " 1. From a single `Series` object:"
   ]
  },
  {
   "cell_type": "code",
   "execution_count": null,
   "metadata": {},
   "outputs": [],
   "source": [
    "pd.DataFrame(population_series, columns=[\"population\"])"
   ]
  },
  {
   "cell_type": "markdown",
   "metadata": {},
   "source": [
    "    2. From a list of dictionaries:"
   ]
  },
  {
   "cell_type": "code",
   "execution_count": null,
   "metadata": {},
   "outputs": [],
   "source": [
    "pd.DataFrame([{'Jonas': 1.0, 'Werner': 2.0, 'Hannah': 1.0}, {'Werner': 3.0, 'Lisa': 2.0, 'Hannah': 3.0}])"
   ]
  },
  {
   "cell_type": "markdown",
   "metadata": {},
   "source": [
    "    3. From a dictionary of `Series` objects:"
   ]
  },
  {
   "cell_type": "code",
   "execution_count": null,
   "metadata": {},
   "outputs": [],
   "source": [
    "pd.DataFrame({'population': population_series, 'area': area_series})"
   ]
  },
  {
   "cell_type": "markdown",
   "metadata": {},
   "source": [
    "## Data Selection in `Series`\n",
    "\n",
    "`Series` can be used as a dictionary:\n",
    " * Select elements by key, e.g. `data['Werner']`\n",
    " * Modify the `Series` object with familiar syntax, e.g. `data['Lisa'] = 100`\n",
    " * Check if a key exists by using the `in` operator\n",
    " * Access all the keys by using the `keys()` method\n",
    " * Access all the values by using the `items()` method"
   ]
  },
  {
   "cell_type": "code",
   "execution_count": null,
   "metadata": {},
   "outputs": [],
   "source": [
    "grades = pd.Series([1.0, 2.0, 1.0], index=['Jonas', 'Werner', 'Hannah'])\n",
    "grades"
   ]
  },
  {
   "cell_type": "code",
   "execution_count": null,
   "metadata": {},
   "outputs": [],
   "source": [
    "grades['Werner']"
   ]
  },
  {
   "cell_type": "code",
   "execution_count": null,
   "metadata": {},
   "outputs": [],
   "source": [
    "grades['Hannah'] = 3.0\n",
    "grades"
   ]
  },
  {
   "cell_type": "code",
   "execution_count": null,
   "metadata": {},
   "outputs": [],
   "source": [
    "'Hannah' in grades"
   ]
  },
  {
   "cell_type": "code",
   "execution_count": null,
   "metadata": {},
   "outputs": [],
   "source": [
    "grades.keys()"
   ]
  },
  {
   "cell_type": "code",
   "execution_count": null,
   "metadata": {},
   "outputs": [],
   "source": [
    "list(grades.items())"
   ]
  },
  {
   "cell_type": "markdown",
   "metadata": {},
   "source": [
    "`Series` can also be used as one-dimensional array: \n",
    " * You can select elements by using their implicit integer index, e.g. `grades[0]`\n",
    " * You can select elements by using their explicit index, e.g. `grades['Hannah']`\n",
    " * You can select slices both by using an implicit integer index or an explicit index\n",
    "   * _Notice:_ Slicing with an explicit index (e.g., `grades['Jonas':'Werner']`) will _include_ the final index in the slice, while slicing with an implicit index (e.g., `grades[0:1]`) will _exclude_ the final index from the slice\n",
    " * You can use masking operations, e.g., `grades[grades < 2]`\n",
    "   * _Notice:_ You can combine masking operations, e.g. grades[(grades > 1) & (grades < 3)]"
   ]
  },
  {
   "cell_type": "code",
   "execution_count": null,
   "metadata": {},
   "outputs": [],
   "source": [
    "grades[0] # Selecting by implicit index"
   ]
  },
  {
   "cell_type": "code",
   "execution_count": null,
   "metadata": {},
   "outputs": [],
   "source": [
    "grades['Hannah'] # Slicing by explicit index"
   ]
  },
  {
   "cell_type": "code",
   "execution_count": null,
   "metadata": {},
   "outputs": [],
   "source": [
    "grades[0:1] # Slicing by implicit index"
   ]
  },
  {
   "cell_type": "code",
   "execution_count": null,
   "metadata": {},
   "outputs": [],
   "source": [
    "grades['Jonas':'Werner'] # Slicing by explicit index"
   ]
  },
  {
   "cell_type": "code",
   "execution_count": null,
   "metadata": {},
   "outputs": [],
   "source": [
    "grades[grades < 2]"
   ]
  },
  {
   "cell_type": "code",
   "execution_count": null,
   "metadata": {},
   "outputs": [],
   "source": [
    "grades[(grades > 1) & (grades < 3)]"
   ]
  },
  {
   "cell_type": "markdown",
   "metadata": {},
   "source": [
    "## Data Selection in `DataFrame`\n",
    "\n",
    "A `DataFrame` can be used as a dictionary of related `Series` objects: \n",
    " * Select `Series` by the column name, e.g. `data['area']`\n",
    " * Modify the `DataFrame` object with mathematical operators, e.g. `data['density'] = data['population'] / data['area']`"
   ]
  },
  {
   "cell_type": "code",
   "execution_count": null,
   "metadata": {},
   "outputs": [],
   "source": [
    "population_series = pd.Series({'Zurich': 402.762,\n",
    "                   'Bern': 1035.000,\n",
    "                   'Luzern': 81.592,\n",
    "                   'Geneva': 499.480,\n",
    "                   'Basel': 171.017})\n",
    "\n",
    "area_series = pd.Series({'Zurich': 87.88, 'Bern': 51.62, 'Luzern': 29.11, 'Geneva': 15.92, 'Basel': 23.85})\n",
    "\n",
    "data = pd.DataFrame({'area': area_series, 'population': population_series})\n",
    "data"
   ]
  },
  {
   "cell_type": "code",
   "execution_count": null,
   "metadata": {},
   "outputs": [],
   "source": [
    "data['area']"
   ]
  },
  {
   "cell_type": "code",
   "execution_count": null,
   "metadata": {},
   "outputs": [],
   "source": [
    "data['population']"
   ]
  },
  {
   "cell_type": "code",
   "execution_count": null,
   "metadata": {},
   "outputs": [],
   "source": [
    "data['density'] = data['population'] / data['area']\n",
    "data"
   ]
  },
  {
   "cell_type": "markdown",
   "metadata": {},
   "source": [
    "A `DataFrame` can be used as a two-dimensional array: \n",
    " * Access the underlying matrix by using the `values` attribute\n",
    "   * `df.values[0]` will select the first row\n",
    " * Use the `iloc` indexer to index, slice, and modify the data by using the implicit integer index\n",
    " * Use the `loc` indexer to index, slice, and modify the data by using the explicit index"
   ]
  },
  {
   "cell_type": "code",
   "execution_count": null,
   "metadata": {},
   "outputs": [],
   "source": [
    "data.values"
   ]
  },
  {
   "cell_type": "code",
   "execution_count": null,
   "metadata": {},
   "outputs": [],
   "source": [
    "data.values[0]"
   ]
  },
  {
   "cell_type": "code",
   "execution_count": null,
   "metadata": {},
   "outputs": [],
   "source": [
    "data.iloc[:3, :2] # Use implicit, ordinal indices"
   ]
  },
  {
   "cell_type": "code",
   "execution_count": null,
   "metadata": {},
   "outputs": [],
   "source": [
    "data.loc[:'Luzern', :'population'] # Use explicit, labeled indices"
   ]
  },
  {
   "cell_type": "code",
   "execution_count": null,
   "metadata": {},
   "outputs": [],
   "source": [
    "data.iloc[0, 2] = 120\n",
    "data"
   ]
  },
  {
   "cell_type": "markdown",
   "metadata": {},
   "source": [
    "## Missing Data\n",
    "\n",
    "In Python missing data is marked with `NaN` (\"Not a Number\"). You can create NaN values by loading the `Numpy` Package and using the `np.nan` function. You can use the `dropna()` method to drop missing values. And you can also define whether you want to drop the rows or the columns by using the axis parameter."
   ]
  },
  {
   "cell_type": "code",
   "execution_count": null,
   "metadata": {},
   "outputs": [],
   "source": [
    "import numpy as np # Loading the Numpy package\n",
    "data.iloc[0, 2] = np.nan # Using the np.nan function\n",
    "data"
   ]
  },
  {
   "cell_type": "code",
   "execution_count": null,
   "metadata": {},
   "outputs": [],
   "source": [
    "data.dropna(axis='rows') # Drop the rows where at least one element is missing"
   ]
  },
  {
   "cell_type": "code",
   "execution_count": null,
   "metadata": {},
   "outputs": [],
   "source": [
    "data.dropna(axis='columns') # Drop the columns where at least one element is missing"
   ]
  },
  {
   "cell_type": "markdown",
   "metadata": {},
   "source": [
    "## Reading and Writing Data with Pandas\n",
    " \n",
    "### The Current Working Directory\n",
    "\n",
    "Every program that runs on your computer has a _current working directory_ . It's the directory (more modern: _folder_ ) from where the program is executed.\n",
    "The _root_ directory is the top-most directory and is addressed by `/` \n",
    " * A directory `mydir1` in the root directory can be addressed by `/mydir1`\n",
    " * A directory `mydir2` within the `mydir1` directory can be address by `/mydir/mydir2`, and so on\n",
    " \n",
    "### Absolute and Relative Paths\n",
    "\n",
    "An _absolute path_ begins always with the root folder, e.g. `/my/path/...`. A _relative path_ is always relative to the program's current working directory. \n",
    "\n",
    "__Example:__ \n",
    "If a program's current working directory is `/myprogram` and the directory contains a folder files with a file `test.txt`, then the relative path to that file is just `files/test.txt` The absolute path to `test.txt` would be `/myprogram/files/test.txt` (note the root folder `/`)\n",
    " \n",
    "### Set and Change your Working Directory\n",
    "\n",
    "You can see, set, and change your Working Directory:\n",
    "  * pwd: Print the working directory (where we currently are in the file system)\n",
    "  * ls: List working directory contents\n",
    "  * import os // os.chdir(\"C:/path/to/your/location\"): Change directory\n",
    "  * mkdir: Make new directory"
   ]
  },
  {
   "cell_type": "code",
   "execution_count": null,
   "metadata": {},
   "outputs": [],
   "source": [
    "pwd"
   ]
  },
  {
   "cell_type": "code",
   "execution_count": null,
   "metadata": {},
   "outputs": [],
   "source": [
    "# This command changes your working directory.\n",
    "# You will need to remove the #-sign in the next lines of code, put your own file path in the \"C:/path/to/your/location\", \n",
    "# and then run the following code:\n",
    "\n",
    "# import os\n",
    "# os.chdir(\"C:/path/to/your/location\")"
   ]
  },
  {
   "cell_type": "code",
   "execution_count": null,
   "metadata": {},
   "outputs": [],
   "source": [
    "mkdir test"
   ]
  },
  {
   "cell_type": "code",
   "execution_count": null,
   "metadata": {},
   "outputs": [],
   "source": [
    "ls"
   ]
  },
  {
   "cell_type": "markdown",
   "metadata": {},
   "source": [
    "### Reading Data with Pandas\n",
    "\n",
    "Pandas provides the `pandas.read_csv()` function to load data from a CSV file. \n",
    "\n",
    "Download the CSV file `Tweets_by_Sentiment_DataFrame` from the link: https://drive.switch.ch/index.php/s/r932ztOQdtqBX57,       Password: _css_methods_\n",
    "\n",
    "Store the data set in the same folder as this Notebook."
   ]
  },
  {
   "cell_type": "code",
   "execution_count": null,
   "metadata": {},
   "outputs": [],
   "source": [
    "tweets = pd.read_csv(\"Tweets_by_Sentiment_DataFrame.csv\", sep=\",\")"
   ]
  },
  {
   "cell_type": "code",
   "execution_count": null,
   "metadata": {},
   "outputs": [],
   "source": [
    "# If the file is not in the same folder as this Notebook and you get a FileNotFoundError, your directory might not \n",
    "# be set up correctly.\n",
    "# In this case, you should manually set the working directory to the file in which the csv is stored.\n",
    "# You will need to remove the #-sign in the next lines of code, put your own file path in the \"C:/path/to/your/location\", \n",
    "# and then run the following code:\n",
    "\n",
    "# import os\n",
    "# os.chdir(\"C:/path/to/your/location\")"
   ]
  },
  {
   "cell_type": "code",
   "execution_count": null,
   "metadata": {},
   "outputs": [],
   "source": [
    "tweets.shape\n",
    "# Number of rows/cases and columns"
   ]
  },
  {
   "cell_type": "code",
   "execution_count": null,
   "metadata": {},
   "outputs": [],
   "source": [
    "len(tweets)\n",
    "# Number of rows/cases"
   ]
  },
  {
   "cell_type": "code",
   "execution_count": null,
   "metadata": {},
   "outputs": [],
   "source": [
    "len(tweets.columns)\n",
    "# Number of columns"
   ]
  },
  {
   "cell_type": "code",
   "execution_count": null,
   "metadata": {},
   "outputs": [],
   "source": [
    "tweets.columns\n",
    "# Gives the names of the columns"
   ]
  },
  {
   "cell_type": "code",
   "execution_count": null,
   "metadata": {},
   "outputs": [],
   "source": [
    "tweets.head()\n",
    "# Gives the head (5 rows in default) of the data frame."
   ]
  },
  {
   "cell_type": "code",
   "execution_count": null,
   "metadata": {},
   "outputs": [],
   "source": [
    "tweets.isnull().sum()\n",
    "# Shows the count of missings in each column"
   ]
  },
  {
   "cell_type": "markdown",
   "metadata": {},
   "source": [
    "## Aggregating and Grouping Data in Pandas"
   ]
  },
  {
   "cell_type": "markdown",
   "metadata": {},
   "source": [
    "### Simple Aggregation in Pandas\n",
    "\n",
    "While for a `Series` the aggregates return a single value, for a `DataFrame` the aggregates return results for each column"
   ]
  },
  {
   "cell_type": "markdown",
   "metadata": {},
   "source": [
    "__Series:__"
   ]
  },
  {
   "cell_type": "code",
   "execution_count": null,
   "metadata": {},
   "outputs": [],
   "source": [
    "area.sum()"
   ]
  },
  {
   "cell_type": "code",
   "execution_count": null,
   "metadata": {},
   "outputs": [],
   "source": [
    "area.mean()"
   ]
  },
  {
   "cell_type": "code",
   "execution_count": null,
   "metadata": {},
   "outputs": [],
   "source": [
    "area.max()"
   ]
  },
  {
   "cell_type": "code",
   "execution_count": null,
   "metadata": {},
   "outputs": [],
   "source": [
    "area.min()"
   ]
  },
  {
   "cell_type": "markdown",
   "metadata": {},
   "source": [
    "__DataFrame:__"
   ]
  },
  {
   "cell_type": "code",
   "execution_count": null,
   "metadata": {},
   "outputs": [],
   "source": [
    "data.sum()"
   ]
  },
  {
   "cell_type": "code",
   "execution_count": null,
   "metadata": {},
   "outputs": [],
   "source": [
    "data.mean()"
   ]
  },
  {
   "cell_type": "code",
   "execution_count": null,
   "metadata": {},
   "outputs": [],
   "source": [
    "data.max()"
   ]
  },
  {
   "cell_type": "code",
   "execution_count": null,
   "metadata": {},
   "outputs": [],
   "source": [
    "data.min()"
   ]
  },
  {
   "cell_type": "code",
   "execution_count": null,
   "metadata": {},
   "outputs": [],
   "source": [
    "data.describe()"
   ]
  },
  {
   "cell_type": "markdown",
   "metadata": {},
   "source": [
    "### Append & Concatenate DataFrames\n",
    "\n",
    "You can create a single `DataFrame` from multiple `DataFrames` by using `Append` and `Concat`\n",
    "    * The functions `Append` and `Concat` are almost equivalent\n",
    "    * `Concat` provides the flexibility to join based on the axis (all rows or all columns)\n",
    "    * `Append` is the specific case(axis=0, join='outer') of `Concat`"
   ]
  },
  {
   "cell_type": "markdown",
   "metadata": {},
   "source": [
    "__Let's first define three DataFrames:__"
   ]
  },
  {
   "cell_type": "code",
   "execution_count": null,
   "metadata": {},
   "outputs": [],
   "source": [
    "df1 = pd.DataFrame({'A': ['A0', 'A1', 'A2', 'A3'],\n",
    "                    'B': ['B0', 'B1', 'B2', 'B3'],\n",
    "                    'C': ['C0', 'C1', 'C2', 'C3'],\n",
    "                    'D': ['D0', 'D1', 'D2', 'D3']},\n",
    "                    index=[0, 1, 2, 3])\n",
    "df1"
   ]
  },
  {
   "cell_type": "code",
   "execution_count": null,
   "metadata": {},
   "outputs": [],
   "source": [
    "df2 = pd.DataFrame({'A': ['A4', 'A5', 'A6', 'A7'],\n",
    "                    'B': ['B4', 'B5', 'B6', 'B7'],\n",
    "                    'C': ['C4', 'C5', 'C6', 'C7'],\n",
    "                    'D': ['D4', 'D5', 'D6', 'D7']},\n",
    "                   index=[4, 5, 6, 7])\n",
    "df2"
   ]
  },
  {
   "cell_type": "code",
   "execution_count": null,
   "metadata": {},
   "outputs": [],
   "source": [
    "df3 = pd.DataFrame({'A': ['A8', 'A9', 'A10', 'A11'],\n",
    "                    'B': ['B8', 'B9', 'B10', 'B11'],\n",
    "                    'C': ['C8', 'C9', 'C10', 'C11'],\n",
    "                    'D': ['D8', 'D9', 'D10', 'D11']},\n",
    "                    index=[8, 9, 10, 11])\n",
    "df3"
   ]
  },
  {
   "cell_type": "markdown",
   "metadata": {},
   "source": [
    "__Append them:__"
   ]
  },
  {
   "cell_type": "code",
   "execution_count": null,
   "metadata": {},
   "outputs": [],
   "source": [
    "df_all = df1.append(df2)\n",
    "df_all"
   ]
  },
  {
   "cell_type": "code",
   "execution_count": null,
   "metadata": {},
   "outputs": [],
   "source": [
    "df_all = df1.append([df2, df3])\n",
    "df_all"
   ]
  },
  {
   "cell_type": "markdown",
   "metadata": {},
   "source": [
    "__Concatenate them:__"
   ]
  },
  {
   "cell_type": "code",
   "execution_count": null,
   "metadata": {},
   "outputs": [],
   "source": [
    "data_all = pd.concat([df1, df2])\n",
    "data_all"
   ]
  },
  {
   "cell_type": "code",
   "execution_count": null,
   "metadata": {},
   "outputs": [],
   "source": [
    "data_all = pd.concat([df1, df2, df3])\n",
    "data_all"
   ]
  },
  {
   "cell_type": "markdown",
   "metadata": {},
   "source": [
    "* You can also define the axis you want to concatenate to:"
   ]
  },
  {
   "cell_type": "code",
   "execution_count": null,
   "metadata": {},
   "outputs": [],
   "source": [
    "df_all = pd.concat([df1, df2, df3], axis=0, join='outer')\n",
    "df_all"
   ]
  },
  {
   "cell_type": "code",
   "execution_count": null,
   "metadata": {},
   "outputs": [],
   "source": [
    "df_all = pd.concat([df1, df2, df3], axis=1, join='outer')\n",
    "df_all"
   ]
  },
  {
   "cell_type": "markdown",
   "metadata": {},
   "source": [
    "### The `GroupBy` Object\n",
    "* The `groupBy()` method returns a `DataFrameGroupBy`: It's a special view of the `DataFrame`\n",
    " * Helps get information about the groups, but does no actual computation until the aggregation is applied (\"lazy evaluation\", i.e. evaluate only when needed)\n",
    " * Apply an aggregate to this `DataFrameGroupBy` object: This will perform the appropriate apply/combine steps to produce the desired result\n",
    " * Other important operations made available by a `GroupBy` are _filter_ , _transform_ , and _apply_"
   ]
  },
  {
   "cell_type": "code",
   "execution_count": null,
   "metadata": {},
   "outputs": [],
   "source": [
    "names = pd.DataFrame({'name': ['Anna, Jörkel', 'Basti, Hörhammer', 'Caren, Liebeskind', 'Anna, Jörkel', 'Basti, Rittburger', 'Caren, Liebeskind'], 'values': range(1,7)})\n",
    "names"
   ]
  },
  {
   "cell_type": "code",
   "execution_count": null,
   "metadata": {},
   "outputs": [],
   "source": [
    "groupby_key = names.groupby('name')\n",
    "groupby_key.groups"
   ]
  },
  {
   "cell_type": "code",
   "execution_count": null,
   "metadata": {},
   "outputs": [],
   "source": [
    "names.groupby('name').sum()"
   ]
  },
  {
   "cell_type": "markdown",
   "metadata": {},
   "source": [
    "### Column Indexing and Iterating Over Groups\n",
    "\n",
    "The `GroupBy` object supports column indexing in the same way as the `DataFrame`, and returns a modified `GroupBy` object. The `GroupBy` object also supports direct iteration over the groups, returning each group as a Series or `DataFrame`."
   ]
  },
  {
   "cell_type": "code",
   "execution_count": null,
   "metadata": {},
   "outputs": [],
   "source": [
    "names.groupby('name')"
   ]
  },
  {
   "cell_type": "code",
   "execution_count": null,
   "metadata": {},
   "outputs": [],
   "source": [
    "names.groupby('name')['values']"
   ]
  },
  {
   "cell_type": "code",
   "execution_count": null,
   "metadata": {},
   "outputs": [],
   "source": [
    "names.groupby('name')['values'].sum()"
   ]
  },
  {
   "cell_type": "markdown",
   "metadata": {},
   "source": [
    "### Splitting the DataFrame by Groups\n",
    "\n",
    "You can extract the Group `DataFrame` by first transforming it into a list:"
   ]
  },
  {
   "cell_type": "code",
   "execution_count": null,
   "metadata": {},
   "outputs": [],
   "source": [
    "grouped = list(names.groupby(['name']))\n",
    "grouped"
   ]
  },
  {
   "cell_type": "code",
   "execution_count": null,
   "metadata": {},
   "outputs": [],
   "source": [
    "joerkel_dataframe = grouped[0][1] # DataFrame for first group\n",
    "joerkel_dataframe"
   ]
  },
  {
   "cell_type": "code",
   "execution_count": null,
   "metadata": {},
   "outputs": [],
   "source": [
    "hoerhammer_dataframe = grouped[1][1] # DataFrame for second group\n",
    "hoerhammer_dataframe"
   ]
  },
  {
   "cell_type": "code",
   "execution_count": null,
   "metadata": {},
   "outputs": [],
   "source": [
    "joerkel_dataframe['values'].sum()"
   ]
  }
 ],
 "metadata": {
  "kernelspec": {
   "display_name": "Python 3",
   "language": "python",
   "name": "python3"
  },
  "language_info": {
   "codemirror_mode": {
    "name": "ipython",
    "version": 3
   },
   "file_extension": ".py",
   "mimetype": "text/x-python",
   "name": "python",
   "nbconvert_exporter": "python",
   "pygments_lexer": "ipython3",
   "version": "3.7.6"
  }
 },
 "nbformat": 4,
 "nbformat_minor": 2
}
