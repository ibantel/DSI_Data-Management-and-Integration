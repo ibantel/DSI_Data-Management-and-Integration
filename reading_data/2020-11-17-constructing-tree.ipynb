{
 "cells": [
  {
   "cell_type": "code",
   "execution_count": 146,
   "metadata": {},
   "outputs": [],
   "source": [
    "import os\n",
    "os.chdir(r\"x\") # change into the folder that contains the unzipped data (in the folder \"DataManagementIntergration_Data\")\n",
    "\n",
    "data_path = r'./DataManagementIntergration_Data/OriginalData_wRouteTest'"
   ]
  },
  {
   "cell_type": "markdown",
   "metadata": {},
   "source": [
    "## 1. Get overview of files"
   ]
  },
  {
   "cell_type": "code",
   "execution_count": 147,
   "metadata": {},
   "outputs": [],
   "source": [
    "dict_folder_file = {} # initialize dictionary\n",
    "# this will hold subfolders as keys and a list of the contained files as value, e.g. dict = {folder1: [file1, file2], ...}\n",
    "\n",
    "for subfolder in os.listdir(data_path):\n",
    "    if subfolder not in dict_folder_file.keys(): # check if the dictionary already contains entries for the subfolder\n",
    "        dict_folder_file[subfolder] = [] # if not, add an empty list to as value for that entry\n",
    "    for entry in os.listdir('/'.join((data_path, subfolder))):\n",
    "        if entry == 'UnityDataSave': # if the subfolder is UnityDataSave\n",
    "            contents = os.listdir('/'.join((data_path, subfolder, entry))) # get the contents of the folder\n",
    "            contents = ['/'.join((entry, i)) for i in contents] # construct the path to the file\n",
    "            for entr in contents:\n",
    "                dict_folder_file[subfolder].append(entr) # append 'UnityDataSave/filename' to the dictionary\n",
    "        else:\n",
    "            dict_folder_file[subfolder].append(entry) # append the list for that entry with the respective files"
   ]
  },
  {
   "cell_type": "markdown",
   "metadata": {},
   "source": [
    "# 2. Read in files"
   ]
  },
  {
   "cell_type": "code",
   "execution_count": 152,
   "metadata": {},
   "outputs": [
    {
     "name": "stdout",
     "output_type": "stream",
     "text": [
      "detailed_subj_15_corsi.csv\n",
      "detailed_subj_16_corsi.csv\n",
      "detailed_subj_17_corsi.csv\n",
      "detailed_subj_18_corsi.csv\n",
      "detailed_subj_19_corsi.csv\n",
      "detailed_subj_20_corsi.csv\n",
      "detailed_subj_21_corsi.csv\n",
      "detailed_subj_22_corsi.csv\n",
      "detailed_subj_23_corsi.csv\n",
      "detailed_subj_24_corsi.csv\n",
      "detailed_subj_25_corsi.csv\n",
      "detailed_subj_26_corsi.csv\n",
      "detailed_subj_27_corsi.csv\n",
      "detailed_subj_28_corsi.csv\n",
      "detailed_subj_29_corsi.csv\n",
      "detailed_subj_30_corsi.csv\n",
      "detailed_subj_31_corsi.csv\n",
      "detailed_subj_32_corsi.csv\n",
      "detailed_subj_33_corsi.csv\n",
      "detailed_subj_34_corsi.csv\n",
      "detailed_subj_35_corsi.csv\n",
      "detailed_subj_36_corsi.csv\n",
      "detailed_subj_37_corsi.csv\n",
      "detailed_subj_38_corsi.csv\n",
      "detailed_subj_39_corsi.csv\n",
      "detailed_subj_40_corsi.csv\n",
      "detailed_subj_41_corsi.csv\n",
      "detailed_subj_42_corsi.csv\n",
      "detailed_subj_43_corsi.csv\n",
      "detailed_subj_44_corsi.csv\n"
     ]
    }
   ],
   "source": [
    "for key in dict_folder_file.keys(): # iterate through each subfolder\n",
    "    print(dict_folder_file[key][0]) # print first file"
   ]
  },
  {
   "cell_type": "code",
   "execution_count": null,
   "metadata": {},
   "outputs": [],
   "source": []
  }
 ],
 "metadata": {
  "kernelspec": {
   "display_name": "Python 3",
   "language": "python",
   "name": "python3"
  },
  "language_info": {
   "codemirror_mode": {
    "name": "ipython",
    "version": 3
   },
   "file_extension": ".py",
   "mimetype": "text/x-python",
   "name": "python",
   "nbconvert_exporter": "python",
   "pygments_lexer": "ipython3",
   "version": "3.7.6"
  }
 },
 "nbformat": 4,
 "nbformat_minor": 4
}
